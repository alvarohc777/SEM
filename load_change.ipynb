{
 "cells": [
  {
   "cell_type": "code",
   "execution_count": 48,
   "metadata": {},
   "outputs": [],
   "source": [
    "import numpy as np\n",
    "with open(\"Sistemas de prueba\\IEEE34.atp\", \"r+\") as f:\n",
    "    lines = f.readlines()\n",
    "lines_copy = lines.copy()\n",
    "\n",
    "# Extraer Lineas de las cargas en archivo\n",
    "three_phase_loads = []\n",
    "single_phase_loads = []\n",
    "switches = []\n",
    "for idx, line in enumerate(lines_copy):\n",
    "    \n",
    "    if \"C Load\" in line:\n",
    "        if \"3f\" in line:\n",
    "            three_phase_loads.append(lines_copy[idx:idx+4])\n",
    "            \n",
    "        else:\n",
    "            single_phase_loads.append(lines_copy[idx:idx+2])\n",
    "    if \"/BRANCH\" in line:\n",
    "        branch_idx = idx\n",
    "    if \"/SWITCH\" in line:\n",
    "        switch_idx = idx\n",
    "ti = 0.01\n",
    "tf = 0.06\n"
   ]
  },
  {
   "cell_type": "code",
   "execution_count": 15,
   "metadata": {},
   "outputs": [
    {
     "name": "stdout",
     "output_type": "stream",
     "text": [
      "C Load 836 3f                                                                  0\n",
      "  X0016AX0016B                     33067.2         16533.6                     0\n",
      "  X0016BX0016C                91177.941176    54706.764706                     0\n",
      "  X0016CX0016A                23167.633452    12135.427046                     0\n",
      "C Load 816 3f                                                                  0\n",
      "  X0002BX0002C                213796.55172     85518.62069                     0\n",
      "  X0002BX0002C                213796.55172     85518.62069                     0\n",
      "  X0002BX0002C                213796.55172     85518.62069                     0\n"
     ]
    }
   ],
   "source": [
    "a = [\"C Load 836 3f                                                                  0\\n\",\n",
    "\"  X0016AX0016B                     33067.2         16533.6                     0\\n\",\n",
    "\"  X0016BX0016C                91177.941176    54706.764706                     0\\n\",\n",
    "\"  X0016CX0016A                23167.633452    12135.427046                     0\\n\",\n",
    "\"C Load 816 3f                                                                  0\\n\",\n",
    "\"  X0002AX0002B                       1.E30           1.E30                     0\\n\",\n",
    "\"  X0002BX0002C                213796.55172     85518.62069                     0\\n\",\n",
    "\"  X0002CX0002A                       1.E30           1.E30                     0\\n\",\n",
    "\"  X0002AX0002B                       1.E30           1.E30                     0\\n\",\n",
    "\"  X0002BX0002C                213796.55172     85518.62069                     0\\n\",\n",
    "\"  X0002CX0002A                       1.E30           1.E30                     0\\n\",\n",
    "\"  X0002AX0002B                       1.E30           1.E30                     0\\n\",\n",
    "\"  X0002BX0002C                213796.55172     85518.62069                     0\\n\",\n",
    "\"  X0002CX0002A                       1.E30           1.E30                     0\\n\"]\n",
    "\n",
    "indices = []\n",
    "for idx, line in reversed(list(enumerate(a))):\n",
    "    if \"1.E30\" in line:\n",
    "        del a[idx]\n",
    "for line in a:\n",
    "    print(line, end='')\n",
    "# for idx in indices:\n",
    "#     a.remove(idx)"
   ]
  },
  {
   "cell_type": "code",
   "execution_count": 49,
   "metadata": {},
   "outputs": [],
   "source": [
    "three_phase_ti = np.random.uniform(ti, tf, (len(three_phase_loads),3))\n",
    "three_phase_ti = np.around(three_phase_ti, 5)\n",
    "single_phase_ti = np.random.uniform(ti, tf, len(single_phase_loads))\n",
    "single_phase_ti = np.around(single_phase_ti, 5)"
   ]
  },
  {
   "cell_type": "code",
   "execution_count": 50,
   "metadata": {},
   "outputs": [],
   "source": [
    "# Iterar por cada Carga\n",
    "from utils.components import single_phase_switch, three_phase_switch\n",
    "\n",
    "tff = str(tf).rjust(10)\n",
    "for load_idx, loads in enumerate(three_phase_loads):\n",
    "    switch = three_phase_switch.copy()\n",
    "    switch_node = []\n",
    "    for idx, load in enumerate(loads):\n",
    "        if idx == 0:\n",
    "            load_node = f\"L{load_idx}\"\n",
    "            loads[idx] = f\"{load.strip()}-Load Change\".ljust(80) + \"\\n\"\n",
    "            switch_node.append(f\"{load.strip()} - switch\".ljust(80) + \"\\n\")\n",
    "            continue\n",
    "\n",
    "        node_1 = load[2:8]\n",
    "        node_2 = load[8:14].strip()\n",
    "\n",
    "        phase_1 = node_1.strip()[-1]\n",
    "        load_node_phase = f\"{load_node}{phase_1}\".center(6)\n",
    "\n",
    "        phase_2 = \"\"\n",
    "        load_node_phase_2 = \"\".center(6)\n",
    "\n",
    "        if node_2:\n",
    "            phase_2 = node_2[-1]\n",
    "            load_node_phase_2 = f\"{load_node}{phase_2}\".center(6)\n",
    "\n",
    "        switch_ln = switch[idx]\n",
    "        ti = str(three_phase_ti[load_idx, idx - 1]).rjust(10)\n",
    "\n",
    "        # Create new Lines\n",
    "        switch[\n",
    "            idx\n",
    "        ] = f\"{switch_ln[:2]}{node_1}{load_node_phase}{ti}{tff}{switch_ln[34:]}\"\n",
    "        loads[idx] = f\"{load[:2]}{load_node_phase}{load_node_phase_2}{load[14:]}\"\n",
    "        switch_node.append(switch[idx])\n",
    "    switches.append(switch_node)\n",
    "\n",
    "for load_idx, loads in enumerate(single_phase_loads):\n",
    "    switch = single_phase_switch.copy()\n",
    "    switch_node = []\n",
    "    for idx, load in enumerate(loads):\n",
    "        if idx == 0:\n",
    "            load_node = f\"L{load_idx}\"\n",
    "            loads[idx] = f\"{load.strip()}-Load Change mono\".ljust(80) + \"\\n\"\n",
    "            switch_node.append(f\"{load.strip()} - switch mono\".ljust(80) + \"\\n\")\n",
    "            continue\n",
    "\n",
    "        node_1 = load[2:8]\n",
    "        node_2 = load[8:14].strip()\n",
    "\n",
    "        phase_1 = node_1.strip()[-1]\n",
    "        load_node_phase = f\"{load_node}{phase_1}\".center(6)\n",
    "\n",
    "        phase_2 = \"\"\n",
    "        load_node_phase_2 = \"\".center(6)\n",
    "\n",
    "        if node_2:\n",
    "            phase_2 = node_2[-1]\n",
    "            load_node_phase_2 = f\"{load_node}{phase_2}\".center(6)\n",
    "\n",
    "        switch_ln = switch[idx]\n",
    "        ti = str(single_phase_ti[load_idx]).rjust(10)\n",
    "\n",
    "        # Create new Lines\n",
    "        switch[\n",
    "            idx\n",
    "        ] = f\"{switch_ln[:2]}{node_1}{load_node_phase}{ti}{tff}{switch_ln[34:]}\"\n",
    "        loads[idx] = f\"{load[:2]}{load_node_phase}{load_node_phase_2}{load[14:]}\"\n",
    "        switch_node.append(switch[idx])\n",
    "    switches.append(switch_node)\n",
    "\n",
    "        \n"
   ]
  },
  {
   "cell_type": "code",
   "execution_count": 60,
   "metadata": {},
   "outputs": [
    {
     "name": "stdout",
     "output_type": "stream",
     "text": [
      "154893.56806\n"
     ]
    },
    {
     "data": {
      "text/plain": [
       "154893.56806"
      ]
     },
     "execution_count": 60,
     "metadata": {},
     "output_type": "execute_result"
    }
   ],
   "source": [
    "a = 154893.56806508\n",
    "aa = f\"{a}\"[:12].center(10)\n",
    "print(aa)\n",
    "154893.56806"
   ]
  },
  {
   "cell_type": "code",
   "execution_count": 51,
   "metadata": {},
   "outputs": [],
   "source": [
    "# for loads in three_phase_loads:\n",
    "#     print('\\n')\n",
    "#     for load in loads:\n",
    "#         print(load, end='')\n",
    "\n",
    "# for switch in switches:\n",
    "#     print('\\n')\n",
    "#     for line in switch:\n",
    "#         print(line, end='')\n",
    "with open(\"Sistemas de prueba\\IEEE34.atp\", \"r+\") as f:\n",
    "    lines = f.readlines()\n",
    "lines_copy = lines.copy()\n",
    "for switch in switches:\n",
    "    lines_copy[switch_idx + 2 : switch_idx + 2] = switch\n",
    "for load in three_phase_loads:\n",
    "    lines_copy[branch_idx + 3 : branch_idx + 3] = load\n",
    "for load in single_phase_loads:\n",
    "    lines_copy[branch_idx + 3 : branch_idx + 3] = load\n",
    "with open(\"Sistemas de prueba\\prueba.atp\", \"w+\") as f:\n",
    "    f.writelines(lines_copy)\n"
   ]
  },
  {
   "cell_type": "code",
   "execution_count": 8,
   "metadata": {},
   "outputs": [
    {
     "name": "stdout",
     "output_type": "stream",
     "text": [
      "C:/Users/aherrada/Documents/GIT/SEM_Repo/3. Archivos CSV/L051.57_050.41.csv\n",
      "Se seleccionó L051.57_050.41\n"
     ]
    },
    {
     "data": {
      "application/vnd.plotly.v1+json": {
       "config": {
        "plotlyServerURL": "https://plot.ly"
       },
       "data": [
        {
         "hovertemplate": "variable=0<br>index=%{x}<br>value=%{y}<extra></extra>",
         "legendgroup": "0",
         "line": {
          "color": "#636efa",
          "dash": "solid"
         },
         "marker": {
          "symbol": "circle"
         },
         "mode": "lines",
         "name": "0",
         "orientation": "v",
         "showlegend": true,
         "type": "scatter",
         "x": [
          0,
          0.0002604,
          0.0005208,
          0.0007812,
          0.0010416,
          0.001302,
          0.0015624,
          0.0018228,
          0.0020832,
          0.0023436,
          0.002604,
          0.0028644,
          0.0031248,
          0.0033852,
          0.0036456,
          0.003906,
          0.0041664,
          0.0044268,
          0.0046872,
          0.0049476,
          0.005208,
          0.0054684,
          0.0057288,
          0.0059892,
          0.0062496,
          0.00651,
          0.0067704,
          0.0070308,
          0.0072912,
          0.0075516,
          0.007812,
          0.0080724,
          0.0083328,
          0.0085932,
          0.0088536,
          0.009114,
          0.0093744,
          0.0096348,
          0.0098952,
          0.0101556,
          0.010416,
          0.0106764,
          0.0109368,
          0.0111972,
          0.0114576,
          0.011718,
          0.0119784,
          0.0122388,
          0.0124992,
          0.0127596,
          0.01302,
          0.0132804,
          0.0135408,
          0.0138012,
          0.0140616,
          0.014322,
          0.0145824,
          0.0148428,
          0.0151032,
          0.0153636,
          0.015624,
          0.0158844,
          0.0161448,
          0.0164052,
          0.0166656,
          0.016926,
          0.0171864,
          0.0174468,
          0.0177072,
          0.0179676,
          0.018228,
          0.0184884,
          0.0187488,
          0.0190092,
          0.0192696,
          0.01953,
          0.0197904,
          0.0200508,
          0.0203112,
          0.0205716,
          0.020832,
          0.0210924,
          0.0213528,
          0.0216132,
          0.0218736,
          0.022134,
          0.0223944,
          0.0226548,
          0.0229152,
          0.0231756,
          0.023436,
          0.0236964,
          0.0239568,
          0.0242172,
          0.0244776,
          0.024738,
          0.0249984,
          0.0252588,
          0.0255192,
          0.0257796,
          0.02604,
          0.0263004,
          0.0265608,
          0.0268212,
          0.0270816,
          0.027342,
          0.0276024,
          0.0278628,
          0.0281232,
          0.0283836,
          0.028644,
          0.0289044,
          0.0291648,
          0.0294252,
          0.0296856,
          0.029946,
          0.0302064,
          0.0304668,
          0.0307272,
          0.0309876,
          0.031248,
          0.0315084,
          0.0317688,
          0.0320292,
          0.0322896,
          0.03255,
          0.0328104,
          0.0330708,
          0.0333312,
          0.0335916,
          0.033852,
          0.0341124,
          0.0343728,
          0.0346332,
          0.0348936,
          0.035154,
          0.0354144,
          0.0356748,
          0.0359352,
          0.0361956,
          0.036456,
          0.0367164,
          0.0369768,
          0.0372372,
          0.0374976,
          0.037758,
          0.0380184,
          0.0382788,
          0.0385392,
          0.0387996,
          0.03906,
          0.0393204,
          0.0395808,
          0.0398412,
          0.0401016,
          0.040362,
          0.0406224,
          0.0408828,
          0.0411432,
          0.0414036,
          0.041664,
          0.0419244,
          0.0421848,
          0.0424452,
          0.0427056,
          0.042966,
          0.0432264,
          0.0434868,
          0.0437472,
          0.0440076,
          0.044268,
          0.0445284,
          0.0447888,
          0.0450492,
          0.0453096,
          0.04557,
          0.0458304,
          0.0460908,
          0.0463512,
          0.0466116,
          0.046872,
          0.0471324,
          0.0473928,
          0.0476532,
          0.0479136,
          0.048174,
          0.0484344,
          0.0486948,
          0.0489552,
          0.0492156,
          0.049476,
          0.0497364,
          0.0499968,
          0.0502572,
          0.0505176,
          0.050778,
          0.0510384,
          0.0512988,
          0.0515592,
          0.0518196,
          0.05208,
          0.0523404,
          0.0526008,
          0.0528612,
          0.0531216,
          0.053382,
          0.0536424,
          0.0539028,
          0.0541632,
          0.0544236,
          0.054684,
          0.0549444,
          0.0552048,
          0.0554652,
          0.0557256,
          0.055986,
          0.0562464,
          0.0565068,
          0.0567672,
          0.0570276,
          0.057288,
          0.0575484,
          0.0578088,
          0.0580692,
          0.0583296,
          0.05859,
          0.0588504,
          0.0591108,
          0.0593712,
          0.0596316,
          0.059892,
          0.0601524,
          0.0604128,
          0.0606732,
          0.0609336,
          0.061194,
          0.0614544,
          0.0617148,
          0.0619752,
          0.0622356,
          0.062496,
          0.0627564,
          0.0630168,
          0.0632772,
          0.0635376,
          0.063798,
          0.0640584,
          0.0643188,
          0.0645792,
          0.0648396,
          0.0651,
          0.0653604,
          0.0656208,
          0.0658812,
          0.0661416,
          0.066402
         ],
         "xaxis": "x",
         "y": [
          -6.733071,
          -9.645481,
          -13.820168,
          -9.275609,
          -14.730197,
          -14.0648155,
          -16.48165,
          -18.999475,
          -17.123455,
          -19.454294,
          -16.567123,
          -19.079273,
          -18.558016,
          -19.72411,
          -18.761288,
          -18.177631,
          -16.706871,
          -16.478994,
          -15.642896,
          -15.885597,
          -14.285665,
          -12.776921,
          -11.042416,
          -9.153602,
          -8.213896,
          -6.6418166,
          -4.8072867,
          -2.8750079,
          -0.020275347,
          1.4800075,
          3.7469466,
          4.406206,
          6.9727,
          8.405753,
          11.230658,
          12.459546,
          14.3164425,
          15.049019,
          16.377892,
          17.731468,
          18.954882,
          19.977554,
          20.28323,
          20.95688,
          20.88144,
          21.469696,
          20.978558,
          21.242895,
          20.539547,
          20.086815,
          18.984507,
          17.99609,
          16.69344,
          15.492115,
          14.122536,
          12.534822,
          10.686197,
          8.465797,
          6.515289,
          4.6019263,
          2.7528527,
          0.8916353,
          -1.3160459,
          -3.3053665,
          -5.615795,
          -7.0365644,
          -8.834793,
          -10.006014,
          -11.9306,
          -13.180796,
          -14.69431,
          -15.3898945,
          -16.442652,
          -16.897554,
          -17.771523,
          -18.145502,
          -18.578201,
          -18.622665,
          -18.614498,
          -18.375212,
          -18.028515,
          -17.436949,
          -16.896679,
          -16.153366,
          -15.353477,
          -14.241958,
          -12.977746,
          -11.410319,
          -9.618836,
          -7.695086,
          -5.639552,
          -3.8099904,
          -2.2533865,
          -0.31703946,
          1.574402,
          3.7501328,
          5.8707232,
          7.657176,
          9.417479,
          10.749739,
          12.496839,
          13.981506,
          15.486768,
          16.597483,
          17.660295,
          18.401703,
          19.180883,
          19.667236,
          20.251747,
          20.366327,
          20.461359,
          20.129036,
          19.808275,
          19.23523,
          18.613798,
          17.77917,
          16.64675,
          15.324324,
          13.676729,
          12.193056,
          10.603372,
          8.67564,
          7.024631,
          4.8986654,
          3.0757434,
          0.94077444,
          -1.0069252,
          -2.9321144,
          -4.828074,
          -6.6177683,
          -8.391694,
          -10.1170025,
          -11.631036,
          -13.114581,
          -14.21094,
          -15.399545,
          -16.397081,
          -17.268927,
          -18.02207,
          -18.476198,
          -18.898954,
          -19.068123,
          -19.131464,
          -19.002703,
          -18.692005,
          -18.25511,
          -17.674948,
          -16.975143,
          -16.207764,
          -15.204595,
          -13.968156,
          -12.498526,
          -10.519304,
          -8.503435,
          -6.355119,
          -4.562248,
          -2.9399576,
          -1.1621614,
          0.75372607,
          3.0430899,
          5.1836414,
          7.0135007,
          8.6002035,
          10.022656,
          11.705839,
          13.363127,
          14.826317,
          16.047422,
          16.917286,
          17.75699,
          18.473715,
          19.153702,
          19.664242,
          19.897306,
          19.997498,
          19.775251,
          19.443718,
          18.903141,
          10.05765,
          14.674004,
          10.533512,
          8.574752,
          13.378252,
          8.433589,
          11.41693,
          5.8394136,
          3.183239,
          2.7471735,
          -0.29213625,
          1.4852382,
          -0.5222977,
          -4.159532,
          -5.7519526,
          -10.26944,
          -8.703168,
          -10.390787,
          -11.480473,
          -11.997303,
          -16.211432,
          -15.540442,
          -17.779917,
          -16.52002,
          -17.018604,
          -18.596863,
          -18.18835,
          -19.716217,
          -18.943556,
          -18.78296,
          -18.41231,
          -16.971706,
          -17.214666,
          -16.538132,
          -16.076902,
          -15.318244,
          -13.156111,
          -11.798853,
          -9.603232,
          -8.016192,
          -6.703475,
          -4.507236,
          -2.9339488,
          -0.26224527,
          1.4003874,
          3.0170171,
          4.746602,
          6.1572647,
          7.979285,
          10.182535,
          11.884044,
          13.380845,
          14.170293,
          15.236143,
          16.500986,
          17.373959,
          18.510952,
          18.779764,
          19.31111,
          19.30523,
          19.479876,
          19.48103,
          19.181145,
          18.781755,
          18.201088,
          17.392216,
          16.240993,
          14.978313,
          13.758883,
          12.482252,
          10.947862,
          9.106802,
          7.162509,
          5.1527348,
          3.3003018,
          1.430861,
          -0.33415654,
          -2.4315681
         ],
         "yaxis": "y"
        }
       ],
       "layout": {
        "legend": {
         "title": {
          "text": "variable"
         },
         "tracegroupgap": 0
        },
        "margin": {
         "t": 60
        },
        "template": {
         "data": {
          "bar": [
           {
            "error_x": {
             "color": "#2a3f5f"
            },
            "error_y": {
             "color": "#2a3f5f"
            },
            "marker": {
             "line": {
              "color": "#E5ECF6",
              "width": 0.5
             },
             "pattern": {
              "fillmode": "overlay",
              "size": 10,
              "solidity": 0.2
             }
            },
            "type": "bar"
           }
          ],
          "barpolar": [
           {
            "marker": {
             "line": {
              "color": "#E5ECF6",
              "width": 0.5
             },
             "pattern": {
              "fillmode": "overlay",
              "size": 10,
              "solidity": 0.2
             }
            },
            "type": "barpolar"
           }
          ],
          "carpet": [
           {
            "aaxis": {
             "endlinecolor": "#2a3f5f",
             "gridcolor": "white",
             "linecolor": "white",
             "minorgridcolor": "white",
             "startlinecolor": "#2a3f5f"
            },
            "baxis": {
             "endlinecolor": "#2a3f5f",
             "gridcolor": "white",
             "linecolor": "white",
             "minorgridcolor": "white",
             "startlinecolor": "#2a3f5f"
            },
            "type": "carpet"
           }
          ],
          "choropleth": [
           {
            "colorbar": {
             "outlinewidth": 0,
             "ticks": ""
            },
            "type": "choropleth"
           }
          ],
          "contour": [
           {
            "colorbar": {
             "outlinewidth": 0,
             "ticks": ""
            },
            "colorscale": [
             [
              0,
              "#0d0887"
             ],
             [
              0.1111111111111111,
              "#46039f"
             ],
             [
              0.2222222222222222,
              "#7201a8"
             ],
             [
              0.3333333333333333,
              "#9c179e"
             ],
             [
              0.4444444444444444,
              "#bd3786"
             ],
             [
              0.5555555555555556,
              "#d8576b"
             ],
             [
              0.6666666666666666,
              "#ed7953"
             ],
             [
              0.7777777777777778,
              "#fb9f3a"
             ],
             [
              0.8888888888888888,
              "#fdca26"
             ],
             [
              1,
              "#f0f921"
             ]
            ],
            "type": "contour"
           }
          ],
          "contourcarpet": [
           {
            "colorbar": {
             "outlinewidth": 0,
             "ticks": ""
            },
            "type": "contourcarpet"
           }
          ],
          "heatmap": [
           {
            "colorbar": {
             "outlinewidth": 0,
             "ticks": ""
            },
            "colorscale": [
             [
              0,
              "#0d0887"
             ],
             [
              0.1111111111111111,
              "#46039f"
             ],
             [
              0.2222222222222222,
              "#7201a8"
             ],
             [
              0.3333333333333333,
              "#9c179e"
             ],
             [
              0.4444444444444444,
              "#bd3786"
             ],
             [
              0.5555555555555556,
              "#d8576b"
             ],
             [
              0.6666666666666666,
              "#ed7953"
             ],
             [
              0.7777777777777778,
              "#fb9f3a"
             ],
             [
              0.8888888888888888,
              "#fdca26"
             ],
             [
              1,
              "#f0f921"
             ]
            ],
            "type": "heatmap"
           }
          ],
          "heatmapgl": [
           {
            "colorbar": {
             "outlinewidth": 0,
             "ticks": ""
            },
            "colorscale": [
             [
              0,
              "#0d0887"
             ],
             [
              0.1111111111111111,
              "#46039f"
             ],
             [
              0.2222222222222222,
              "#7201a8"
             ],
             [
              0.3333333333333333,
              "#9c179e"
             ],
             [
              0.4444444444444444,
              "#bd3786"
             ],
             [
              0.5555555555555556,
              "#d8576b"
             ],
             [
              0.6666666666666666,
              "#ed7953"
             ],
             [
              0.7777777777777778,
              "#fb9f3a"
             ],
             [
              0.8888888888888888,
              "#fdca26"
             ],
             [
              1,
              "#f0f921"
             ]
            ],
            "type": "heatmapgl"
           }
          ],
          "histogram": [
           {
            "marker": {
             "pattern": {
              "fillmode": "overlay",
              "size": 10,
              "solidity": 0.2
             }
            },
            "type": "histogram"
           }
          ],
          "histogram2d": [
           {
            "colorbar": {
             "outlinewidth": 0,
             "ticks": ""
            },
            "colorscale": [
             [
              0,
              "#0d0887"
             ],
             [
              0.1111111111111111,
              "#46039f"
             ],
             [
              0.2222222222222222,
              "#7201a8"
             ],
             [
              0.3333333333333333,
              "#9c179e"
             ],
             [
              0.4444444444444444,
              "#bd3786"
             ],
             [
              0.5555555555555556,
              "#d8576b"
             ],
             [
              0.6666666666666666,
              "#ed7953"
             ],
             [
              0.7777777777777778,
              "#fb9f3a"
             ],
             [
              0.8888888888888888,
              "#fdca26"
             ],
             [
              1,
              "#f0f921"
             ]
            ],
            "type": "histogram2d"
           }
          ],
          "histogram2dcontour": [
           {
            "colorbar": {
             "outlinewidth": 0,
             "ticks": ""
            },
            "colorscale": [
             [
              0,
              "#0d0887"
             ],
             [
              0.1111111111111111,
              "#46039f"
             ],
             [
              0.2222222222222222,
              "#7201a8"
             ],
             [
              0.3333333333333333,
              "#9c179e"
             ],
             [
              0.4444444444444444,
              "#bd3786"
             ],
             [
              0.5555555555555556,
              "#d8576b"
             ],
             [
              0.6666666666666666,
              "#ed7953"
             ],
             [
              0.7777777777777778,
              "#fb9f3a"
             ],
             [
              0.8888888888888888,
              "#fdca26"
             ],
             [
              1,
              "#f0f921"
             ]
            ],
            "type": "histogram2dcontour"
           }
          ],
          "mesh3d": [
           {
            "colorbar": {
             "outlinewidth": 0,
             "ticks": ""
            },
            "type": "mesh3d"
           }
          ],
          "parcoords": [
           {
            "line": {
             "colorbar": {
              "outlinewidth": 0,
              "ticks": ""
             }
            },
            "type": "parcoords"
           }
          ],
          "pie": [
           {
            "automargin": true,
            "type": "pie"
           }
          ],
          "scatter": [
           {
            "fillpattern": {
             "fillmode": "overlay",
             "size": 10,
             "solidity": 0.2
            },
            "type": "scatter"
           }
          ],
          "scatter3d": [
           {
            "line": {
             "colorbar": {
              "outlinewidth": 0,
              "ticks": ""
             }
            },
            "marker": {
             "colorbar": {
              "outlinewidth": 0,
              "ticks": ""
             }
            },
            "type": "scatter3d"
           }
          ],
          "scattercarpet": [
           {
            "marker": {
             "colorbar": {
              "outlinewidth": 0,
              "ticks": ""
             }
            },
            "type": "scattercarpet"
           }
          ],
          "scattergeo": [
           {
            "marker": {
             "colorbar": {
              "outlinewidth": 0,
              "ticks": ""
             }
            },
            "type": "scattergeo"
           }
          ],
          "scattergl": [
           {
            "marker": {
             "colorbar": {
              "outlinewidth": 0,
              "ticks": ""
             }
            },
            "type": "scattergl"
           }
          ],
          "scattermapbox": [
           {
            "marker": {
             "colorbar": {
              "outlinewidth": 0,
              "ticks": ""
             }
            },
            "type": "scattermapbox"
           }
          ],
          "scatterpolar": [
           {
            "marker": {
             "colorbar": {
              "outlinewidth": 0,
              "ticks": ""
             }
            },
            "type": "scatterpolar"
           }
          ],
          "scatterpolargl": [
           {
            "marker": {
             "colorbar": {
              "outlinewidth": 0,
              "ticks": ""
             }
            },
            "type": "scatterpolargl"
           }
          ],
          "scatterternary": [
           {
            "marker": {
             "colorbar": {
              "outlinewidth": 0,
              "ticks": ""
             }
            },
            "type": "scatterternary"
           }
          ],
          "surface": [
           {
            "colorbar": {
             "outlinewidth": 0,
             "ticks": ""
            },
            "colorscale": [
             [
              0,
              "#0d0887"
             ],
             [
              0.1111111111111111,
              "#46039f"
             ],
             [
              0.2222222222222222,
              "#7201a8"
             ],
             [
              0.3333333333333333,
              "#9c179e"
             ],
             [
              0.4444444444444444,
              "#bd3786"
             ],
             [
              0.5555555555555556,
              "#d8576b"
             ],
             [
              0.6666666666666666,
              "#ed7953"
             ],
             [
              0.7777777777777778,
              "#fb9f3a"
             ],
             [
              0.8888888888888888,
              "#fdca26"
             ],
             [
              1,
              "#f0f921"
             ]
            ],
            "type": "surface"
           }
          ],
          "table": [
           {
            "cells": {
             "fill": {
              "color": "#EBF0F8"
             },
             "line": {
              "color": "white"
             }
            },
            "header": {
             "fill": {
              "color": "#C8D4E3"
             },
             "line": {
              "color": "white"
             }
            },
            "type": "table"
           }
          ]
         },
         "layout": {
          "annotationdefaults": {
           "arrowcolor": "#2a3f5f",
           "arrowhead": 0,
           "arrowwidth": 1
          },
          "autotypenumbers": "strict",
          "coloraxis": {
           "colorbar": {
            "outlinewidth": 0,
            "ticks": ""
           }
          },
          "colorscale": {
           "diverging": [
            [
             0,
             "#8e0152"
            ],
            [
             0.1,
             "#c51b7d"
            ],
            [
             0.2,
             "#de77ae"
            ],
            [
             0.3,
             "#f1b6da"
            ],
            [
             0.4,
             "#fde0ef"
            ],
            [
             0.5,
             "#f7f7f7"
            ],
            [
             0.6,
             "#e6f5d0"
            ],
            [
             0.7,
             "#b8e186"
            ],
            [
             0.8,
             "#7fbc41"
            ],
            [
             0.9,
             "#4d9221"
            ],
            [
             1,
             "#276419"
            ]
           ],
           "sequential": [
            [
             0,
             "#0d0887"
            ],
            [
             0.1111111111111111,
             "#46039f"
            ],
            [
             0.2222222222222222,
             "#7201a8"
            ],
            [
             0.3333333333333333,
             "#9c179e"
            ],
            [
             0.4444444444444444,
             "#bd3786"
            ],
            [
             0.5555555555555556,
             "#d8576b"
            ],
            [
             0.6666666666666666,
             "#ed7953"
            ],
            [
             0.7777777777777778,
             "#fb9f3a"
            ],
            [
             0.8888888888888888,
             "#fdca26"
            ],
            [
             1,
             "#f0f921"
            ]
           ],
           "sequentialminus": [
            [
             0,
             "#0d0887"
            ],
            [
             0.1111111111111111,
             "#46039f"
            ],
            [
             0.2222222222222222,
             "#7201a8"
            ],
            [
             0.3333333333333333,
             "#9c179e"
            ],
            [
             0.4444444444444444,
             "#bd3786"
            ],
            [
             0.5555555555555556,
             "#d8576b"
            ],
            [
             0.6666666666666666,
             "#ed7953"
            ],
            [
             0.7777777777777778,
             "#fb9f3a"
            ],
            [
             0.8888888888888888,
             "#fdca26"
            ],
            [
             1,
             "#f0f921"
            ]
           ]
          },
          "colorway": [
           "#636efa",
           "#EF553B",
           "#00cc96",
           "#ab63fa",
           "#FFA15A",
           "#19d3f3",
           "#FF6692",
           "#B6E880",
           "#FF97FF",
           "#FECB52"
          ],
          "font": {
           "color": "#2a3f5f"
          },
          "geo": {
           "bgcolor": "white",
           "lakecolor": "white",
           "landcolor": "#E5ECF6",
           "showlakes": true,
           "showland": true,
           "subunitcolor": "white"
          },
          "hoverlabel": {
           "align": "left"
          },
          "hovermode": "closest",
          "mapbox": {
           "style": "light"
          },
          "paper_bgcolor": "white",
          "plot_bgcolor": "#E5ECF6",
          "polar": {
           "angularaxis": {
            "gridcolor": "white",
            "linecolor": "white",
            "ticks": ""
           },
           "bgcolor": "#E5ECF6",
           "radialaxis": {
            "gridcolor": "white",
            "linecolor": "white",
            "ticks": ""
           }
          },
          "scene": {
           "xaxis": {
            "backgroundcolor": "#E5ECF6",
            "gridcolor": "white",
            "gridwidth": 2,
            "linecolor": "white",
            "showbackground": true,
            "ticks": "",
            "zerolinecolor": "white"
           },
           "yaxis": {
            "backgroundcolor": "#E5ECF6",
            "gridcolor": "white",
            "gridwidth": 2,
            "linecolor": "white",
            "showbackground": true,
            "ticks": "",
            "zerolinecolor": "white"
           },
           "zaxis": {
            "backgroundcolor": "#E5ECF6",
            "gridcolor": "white",
            "gridwidth": 2,
            "linecolor": "white",
            "showbackground": true,
            "ticks": "",
            "zerolinecolor": "white"
           }
          },
          "shapedefaults": {
           "line": {
            "color": "#2a3f5f"
           }
          },
          "ternary": {
           "aaxis": {
            "gridcolor": "white",
            "linecolor": "white",
            "ticks": ""
           },
           "baxis": {
            "gridcolor": "white",
            "linecolor": "white",
            "ticks": ""
           },
           "bgcolor": "#E5ECF6",
           "caxis": {
            "gridcolor": "white",
            "linecolor": "white",
            "ticks": ""
           }
          },
          "title": {
           "x": 0.05
          },
          "xaxis": {
           "automargin": true,
           "gridcolor": "white",
           "linecolor": "white",
           "ticks": "",
           "title": {
            "standoff": 15
           },
           "zerolinecolor": "white",
           "zerolinewidth": 2
          },
          "yaxis": {
           "automargin": true,
           "gridcolor": "white",
           "linecolor": "white",
           "ticks": "",
           "title": {
            "standoff": 15
           },
           "zerolinecolor": "white",
           "zerolinewidth": 2
          }
         }
        },
        "xaxis": {
         "anchor": "y",
         "domain": [
          0,
          1
         ],
         "title": {
          "text": "index"
         }
        },
        "yaxis": {
         "anchor": "x",
         "domain": [
          0,
          1
         ],
         "title": {
          "text": "value"
         }
        }
       }
      }
     },
     "metadata": {},
     "output_type": "display_data"
    }
   ],
   "source": [
    "import plotly.express as px\n",
    "import pandas as pd\n",
    "from utils_tesis import signalload\n",
    "\n",
    "signals = signalload.CSV_pandas()\n",
    "# signals.relay_list()\n",
    "signal, t, _ = signals.load_data(\"I: X0004A-R2A\")\n",
    "df = pd.DataFrame(signal, t)\n",
    "px.line(df)"
   ]
  },
  {
   "cell_type": "code",
   "execution_count": null,
   "metadata": {},
   "outputs": [],
   "source": [
    "164.76 => 0.04451 t\n",
    "51.57 => 0.04609 t  (844 3f fase A)"
   ]
  }
 ],
 "metadata": {
  "kernelspec": {
   "display_name": "env",
   "language": "python",
   "name": "python3"
  },
  "language_info": {
   "codemirror_mode": {
    "name": "ipython",
    "version": 3
   },
   "file_extension": ".py",
   "mimetype": "text/x-python",
   "name": "python",
   "nbconvert_exporter": "python",
   "pygments_lexer": "ipython3",
   "version": "3.9.13"
  },
  "orig_nbformat": 4
 },
 "nbformat": 4,
 "nbformat_minor": 2
}
