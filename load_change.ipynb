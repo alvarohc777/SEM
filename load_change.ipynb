{
 "cells": [
  {
   "cell_type": "code",
   "execution_count": 48,
   "metadata": {},
   "outputs": [],
   "source": [
    "import numpy as np\n",
    "with open(\"Sistemas de prueba\\IEEE34.atp\", \"r+\") as f:\n",
    "    lines = f.readlines()\n",
    "lines_copy = lines.copy()\n",
    "\n",
    "# Extraer Lineas de las cargas en archivo\n",
    "three_phase_loads = []\n",
    "single_phase_loads = []\n",
    "switches = []\n",
    "for idx, line in enumerate(lines_copy):\n",
    "    \n",
    "    if \"C Load\" in line:\n",
    "        if \"3f\" in line:\n",
    "            three_phase_loads.append(lines_copy[idx:idx+4])\n",
    "            \n",
    "        else:\n",
    "            single_phase_loads.append(lines_copy[idx:idx+2])\n",
    "    if \"/BRANCH\" in line:\n",
    "        branch_idx = idx\n",
    "    if \"/SWITCH\" in line:\n",
    "        switch_idx = idx\n",
    "ti = 0.01\n",
    "tf = 0.06\n"
   ]
  },
  {
   "cell_type": "code",
   "execution_count": 49,
   "metadata": {},
   "outputs": [],
   "source": [
    "three_phase_ti = np.random.uniform(ti, tf, (len(three_phase_loads),3))\n",
    "three_phase_ti = np.around(three_phase_ti, 5)\n",
    "single_phase_ti = np.random.uniform(ti, tf, len(single_phase_loads))\n",
    "single_phase_ti = np.around(single_phase_ti, 5)"
   ]
  },
  {
   "cell_type": "code",
   "execution_count": 50,
   "metadata": {},
   "outputs": [],
   "source": [
    "# Iterar por cada Carga\n",
    "from utils.components import single_phase_switch, three_phase_switch\n",
    "\n",
    "tff = str(tf).rjust(10)\n",
    "for load_idx, loads in enumerate(three_phase_loads):\n",
    "    switch = three_phase_switch.copy()\n",
    "    switch_node = []\n",
    "    for idx, load in enumerate(loads):\n",
    "        if idx == 0:\n",
    "            load_node = f\"L{load_idx}\"\n",
    "            loads[idx] = f\"{load.strip()}-Load Change\".ljust(80) + \"\\n\"\n",
    "            switch_node.append(f\"{load.strip()} - switch\".ljust(80) + \"\\n\")\n",
    "            continue\n",
    "\n",
    "        node_1 = load[2:8]\n",
    "        node_2 = load[8:14].strip()\n",
    "\n",
    "        phase_1 = node_1.strip()[-1]\n",
    "        load_node_phase = f\"{load_node}{phase_1}\".center(6)\n",
    "\n",
    "        phase_2 = \"\"\n",
    "        load_node_phase_2 = \"\".center(6)\n",
    "\n",
    "        if node_2:\n",
    "            phase_2 = node_2[-1]\n",
    "            load_node_phase_2 = f\"{load_node}{phase_2}\".center(6)\n",
    "\n",
    "        switch_ln = switch[idx]\n",
    "        ti = str(three_phase_ti[load_idx, idx - 1]).rjust(10)\n",
    "\n",
    "        # Create new Lines\n",
    "        switch[\n",
    "            idx\n",
    "        ] = f\"{switch_ln[:2]}{node_1}{load_node_phase}{ti}{tff}{switch_ln[34:]}\"\n",
    "        loads[idx] = f\"{load[:2]}{load_node_phase}{load_node_phase_2}{load[14:]}\"\n",
    "        switch_node.append(switch[idx])\n",
    "    switches.append(switch_node)\n",
    "\n",
    "for load_idx, loads in enumerate(single_phase_loads):\n",
    "    switch = single_phase_switch.copy()\n",
    "    switch_node = []\n",
    "    for idx, load in enumerate(loads):\n",
    "        if idx == 0:\n",
    "            load_node = f\"L{load_idx}\"\n",
    "            loads[idx] = f\"{load.strip()}-Load Change mono\".ljust(80) + \"\\n\"\n",
    "            switch_node.append(f\"{load.strip()} - switch mono\".ljust(80) + \"\\n\")\n",
    "            continue\n",
    "\n",
    "        node_1 = load[2:8]\n",
    "        node_2 = load[8:14].strip()\n",
    "\n",
    "        phase_1 = node_1.strip()[-1]\n",
    "        load_node_phase = f\"{load_node}{phase_1}\".center(6)\n",
    "\n",
    "        phase_2 = \"\"\n",
    "        load_node_phase_2 = \"\".center(6)\n",
    "\n",
    "        if node_2:\n",
    "            phase_2 = node_2[-1]\n",
    "            load_node_phase_2 = f\"{load_node}{phase_2}\".center(6)\n",
    "\n",
    "        switch_ln = switch[idx]\n",
    "        ti = str(single_phase_ti[load_idx]).rjust(10)\n",
    "\n",
    "        # Create new Lines\n",
    "        switch[\n",
    "            idx\n",
    "        ] = f\"{switch_ln[:2]}{node_1}{load_node_phase}{ti}{tff}{switch_ln[34:]}\"\n",
    "        loads[idx] = f\"{load[:2]}{load_node_phase}{load_node_phase_2}{load[14:]}\"\n",
    "        switch_node.append(switch[idx])\n",
    "    switches.append(switch_node)\n",
    "\n",
    "        \n"
   ]
  },
  {
   "cell_type": "code",
   "execution_count": 60,
   "metadata": {},
   "outputs": [
    {
     "name": "stdout",
     "output_type": "stream",
     "text": [
      "154893.56806\n"
     ]
    },
    {
     "data": {
      "text/plain": [
       "154893.56806"
      ]
     },
     "execution_count": 60,
     "metadata": {},
     "output_type": "execute_result"
    }
   ],
   "source": [
    "a = 154893.56806508\n",
    "aa = f\"{a}\"[:12].center(10)\n",
    "print(aa)\n",
    "154893.56806"
   ]
  },
  {
   "cell_type": "code",
   "execution_count": 51,
   "metadata": {},
   "outputs": [],
   "source": [
    "# for loads in three_phase_loads:\n",
    "#     print('\\n')\n",
    "#     for load in loads:\n",
    "#         print(load, end='')\n",
    "\n",
    "# for switch in switches:\n",
    "#     print('\\n')\n",
    "#     for line in switch:\n",
    "#         print(line, end='')\n",
    "with open(\"Sistemas de prueba\\IEEE34.atp\", \"r+\") as f:\n",
    "    lines = f.readlines()\n",
    "lines_copy = lines.copy()\n",
    "for switch in switches:\n",
    "    lines_copy[switch_idx + 2 : switch_idx + 2] = switch\n",
    "for load in three_phase_loads:\n",
    "    lines_copy[branch_idx + 3 : branch_idx + 3] = load\n",
    "for load in single_phase_loads:\n",
    "    lines_copy[branch_idx + 3 : branch_idx + 3] = load\n",
    "with open(\"Sistemas de prueba\\prueba.atp\", \"w+\") as f:\n",
    "    f.writelines(lines_copy)\n"
   ]
  },
  {
   "cell_type": "code",
   "execution_count": null,
   "metadata": {},
   "outputs": [],
   "source": []
  },
  {
   "cell_type": "code",
   "execution_count": null,
   "metadata": {},
   "outputs": [],
   "source": []
  },
  {
   "cell_type": "code",
   "execution_count": null,
   "metadata": {},
   "outputs": [],
   "source": []
  }
 ],
 "metadata": {
  "kernelspec": {
   "display_name": "env",
   "language": "python",
   "name": "python3"
  },
  "language_info": {
   "codemirror_mode": {
    "name": "ipython",
    "version": 3
   },
   "file_extension": ".py",
   "mimetype": "text/x-python",
   "name": "python",
   "nbconvert_exporter": "python",
   "pygments_lexer": "ipython3",
   "version": "3.9.13"
  },
  "orig_nbformat": 4
 },
 "nbformat": 4,
 "nbformat_minor": 2
}
