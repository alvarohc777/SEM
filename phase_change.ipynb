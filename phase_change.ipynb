{
 "cells": [
  {
   "attachments": {},
   "cell_type": "markdown",
   "metadata": {},
   "source": [
    "#### Demostración de info para hallar ángulo de fase de la fuente "
   ]
  },
  {
   "cell_type": "code",
   "execution_count": null,
   "metadata": {},
   "outputs": [],
   "source": [
    "with open(\"angle_test.atp\", \"r+\") as f:\n",
    "    lines = f.readlines()\n",
    "lines_copy = lines.copy()\n",
    "for line_idx, line in enumerate(lines):\n",
    "    if \"C MainSource\" == line.strip(\"\\n\"):\n",
    "        print(line_idx, line)\n",
    "        print(lines[line_idx+1][0:8])\n",
    "        print(lines[line_idx+1][8:16])\n",
    "        print(f\"16:24: {lines[line_idx+1][16:24]}\")\n",
    "        print(f\"24:32: {lines[line_idx+1][24:32]}\")\n",
    "        print(f\"32:40: {lines[line_idx+1][32:40]}\")\n",
    "        print(f\"40:48: {lines[line_idx+1][40:48]}\")\n",
    "        print(f\"48:56: {lines[line_idx+1][48:56]}\")\n",
    "        print(f\"56:64: {lines[line_idx+1][56:64]}\")\n",
    "        print(f\"64:72: {lines[line_idx+1][64:72]}\")\n",
    "        print(f\"64:72: {lines[line_idx+1][64:72]}\")\n",
    "        print(f\"72:80: {lines[line_idx+1][72:80]}\")\n",
    "\n",
    "        print(f\"Ángulo de fase utiliza 3 digitos y 5 decimales (9 posiciones):\")\n",
    "        print(f\"En las columnas [31:40]: {lines[line_idx+1][31:40]}\")\n",
    "        source_phase = lines[line_idx+1][31:40]\n",
    "\n",
    "# print(\"C MainSource\\n\" in lines_copy)"
   ]
  },
  {
   "cell_type": "code",
   "execution_count": null,
   "metadata": {},
   "outputs": [],
   "source": [
    "import random\n",
    "\n",
    "phase_int = random.randint(0, 360)\n",
    "phase_dec = random.random()\n",
    "source_phase = phase_int + phase_dec\n",
    "\n",
    "print(source_phase)\n",
    "random_phase = True\n",
    "\n"
   ]
  },
  {
   "cell_type": "code",
   "execution_count": null,
   "metadata": {},
   "outputs": [],
   "source": [
    "with open(\"atp_scenarios\\\\angle_test.atp\") as f:\n",
    "    lines = f.readlines()\n",
    "lines_copy = lines.copy()\n",
    "\n",
    "for line_idx, line in enumerate(lines):\n",
    "    if \"C MainSource\" in line:\n",
    "        d_mainSource = line_idx + 1\n",
    "phase_line_a = lines_copy[d_mainSource]\n",
    "phase_line_b = lines_copy[d_mainSource+1]\n",
    "phase_line_c = lines_copy[d_mainSource+2]\n",
    "phi_a = str(round(source_phase, 5))\n",
    "phi_b = str(round(source_phase-120,5))\n",
    "phi_c = str(round(source_phase-240,5))\n",
    "\n",
    "if random_phase:\n",
    "    lines_copy[d_mainSource] = f\"{phase_line_a[:30]}{phi_a:>10}{phase_line_a[40:]}\"\n",
    "    lines_copy[d_mainSource+1] = f\"{phase_line_b[:30]}{phi_b:>10}{phase_line_b[40:]}\"\n",
    "    lines_copy[d_mainSource+2] = f\"{phase_line_c[:30]}{phi_c:>10}{phase_line_c[40:]}\"\n",
    "print(phase_line_a)\n",
    "print(lines_copy[d_mainSource])\n",
    "with open(\"archivoprueba.atp\", \"w\") as f:\n",
    "    f.writelines(lines_copy)"
   ]
  },
  {
   "cell_type": "code",
   "execution_count": null,
   "metadata": {},
   "outputs": [],
   "source": [
    "try:\n",
    "    lines_copy[alvaro]\n",
    "except NameError:\n",
    "    print(\"Check mainSource/microGridSource comment\")\n",
    "\n"
   ]
  },
  {
   "cell_type": "code",
   "execution_count": null,
   "metadata": {},
   "outputs": [],
   "source": [
    "with open(\"IEEE34_Base.atp\", \"r+\") as f:\n",
    "    lines = f.readlines()\n",
    "lines_copy = lines.copy()\n",
    "for line_idx, line in enumerate(lines):\n",
    "    if \"C MainSource\" == line.strip(\"\\n\"):\n",
    "        print(line_idx, line)\n",
    "        print(lines[line_idx+1][0:8])\n",
    "        print(lines[line_idx+1][8:16])\n",
    "        print(f\"16:24: {lines[line_idx+1][16:24]}\")\n",
    "        print(f\"24:32: {lines[line_idx+1][24:32]}\")\n",
    "        print(f\"32:40: {lines[line_idx+1][32:40]}\")\n",
    "        print(f\"40:48: {lines[line_idx+1][40:48]}\")\n",
    "        print(f\"48:56: {lines[line_idx+1][48:56]}\")\n",
    "        print(f\"56:64: {lines[line_idx+1][56:64]}\")\n",
    "        print(f\"64:72: {lines[line_idx+1][64:72]}\")\n",
    "        print(f\"64:72: {lines[line_idx+1][64:72]}\")\n",
    "        print(f\"72:80: {lines[line_idx+1][72:80]}\")\n",
    "\n",
    "        print(f\"Ángulo de fase utiliza 3 digitos y 5 decimales (9 posiciones):\")\n",
    "        print(f\"En las columnas [31:40]: {lines[line_idx+1][31:40]}\")"
   ]
  },
  {
   "cell_type": "code",
   "execution_count": null,
   "metadata": {},
   "outputs": [],
   "source": [
    "def readPL4(pl4file: str):\n",
    "    \"\"\"This function extracts signals from a PL4 file and saves\n",
    "    it as a CSV file. Function found at: https://github.com/ldemattos/readPL4.\n",
    "    'Describe and read ATP's (Alternative Transients Program) PL4 binary data file format by means of reverse engineering.'\n",
    "\n",
    "    Parameters\n",
    "    ----------\n",
    "    pl4file : str\n",
    "        Name of .pl4 file\n",
    "    \"\"\"\n",
    "    miscData = {\"deltat\": 0.0, \"nvar\": 0, \"pl4size\": 0, \"steps\": 0, \"tmax\": 0.0}\n",
    "\n",
    "    with open(\"SCENARIOS_ATP\\\\\" + pl4file, \"rb\") as f:\n",
    "\n",
    "        pl4 = mmap.mmap(f.fileno(), 0, access=mmap.ACCESS_READ)\n",
    "\n",
    "        # Read DELTAT\n",
    "        miscData[\"deltat\"] = struct.unpack(\"<f\", pl4[40:44])[0]\n",
    "        DT = miscData[\"deltat\"]\n",
    "\n",
    "        # Read number of vars\n",
    "        miscData[\"nvar\"] = struct.unpack(\"<L\", pl4[48:52])[0] / 2\n",
    "        nv = int(miscData[\"nvar\"])\n",
    "\n",
    "        # Read PL4 disk size\n",
    "        miscData[\"pl4size\"] = struct.unpack(\"<L\", pl4[56:60])[0] - 1\n",
    "\n",
    "        # Compute the number of simulation miscData['steps'] from the PL4's file size\n",
    "        miscData[\"steps\"] = (miscData[\"pl4size\"] - 5 * 16 - miscData[\"nvar\"] * 16) / (\n",
    "            (miscData[\"nvar\"] + 1) * 4\n",
    "        )\n",
    "        step = int(miscData[\"steps\"])\n",
    "\n",
    "        miscData[\"tmax\"] = (miscData[\"steps\"] - 1) * miscData[\"deltat\"]\n",
    "\n",
    "        # generate pandas dataframe to store PL4's header\n",
    "        dfHEAD = pd.DataFrame(columns=[\"TYPE\", \"FROM\", \"TO\"])\n",
    "\n",
    "        for i in range(0, nv):\n",
    "            pos = 5 * 16 + i * 16\n",
    "            h = struct.unpack(\"3x1c6s6s\", pl4[pos : pos + 16])\n",
    "            dfHEAD = dfHEAD.append(\n",
    "                {\"TYPE\": int(h[0]), \"FROM\": h[1], \"TO\": h[2]}, ignore_index=True\n",
    "            )\n",
    "            dfHEAD[\"TYPE\"] = dfHEAD[\"TYPE\"].apply(lambda x: \"V-node\" if x == 4 else x)\n",
    "            dfHEAD[\"TYPE\"] = dfHEAD[\"TYPE\"].apply(lambda x: \"E-bran\" if x == 7 else x)\n",
    "            dfHEAD[\"TYPE\"] = dfHEAD[\"TYPE\"].apply(lambda x: \"V-bran\" if x == 8 else x)\n",
    "            dfHEAD[\"TYPE\"] = dfHEAD[\"TYPE\"].apply(lambda x: \"I-bran\" if x == 9 else x)\n",
    "\n",
    "        data = np.memmap(\n",
    "            f,\n",
    "            dtype=np.float32,\n",
    "            mode=\"r\",\n",
    "            shape=(step, nv + 1),\n",
    "            offset=5 * 16 + nv * 16,\n",
    "        )\n",
    "        currentDirectory = os.getcwd()\n",
    "        file_path = currentDirectory + \"\\\\SCENARIOS_ATP\\\\\"\n",
    "        initial = time.time()\n",
    "        archivopl4 = pl4file\n",
    "\n",
    "        # ------------ CONVERT DATA TO CSV--------------#\n",
    "        header_1 = dfHEAD.iloc[:, 0].to_list()\n",
    "        header_2 = dfHEAD.iloc[:, 1].to_list()\n",
    "        header_3 = dfHEAD.iloc[:, 2].to_list()\n",
    "\n",
    "        header_1.insert(0, \"time\".ljust(6))\n",
    "        header_2.insert(0, \"\".ljust(6))\n",
    "        header_3.insert(0, \"\".ljust(6))\n",
    "\n",
    "        header = pd.MultiIndex.from_arrays([header_1, header_2, header_3])\n",
    "        data = pd.DataFrame(data, columns=header)\n",
    "\n",
    "        csv_path = currentDirectory + \"\\\\ARCHIVOS CSV\"\n",
    "        path_array = csv_path.split(\"\\\\\")\n",
    "        s = \"\"\n",
    "\n",
    "        for x in path_array:\n",
    "            s = s + x\n",
    "            try:\n",
    "                os.stat(s)\n",
    "            except Exception as e:\n",
    "                os.mkdir(s)\n",
    "\n",
    "            s = s + \"\\\\\"\n",
    "        csv_name = csv_path + \"\\\\\" + archivopl4.split(\".\")[0] + \".csv\"\n",
    "        data.to_csv(csv_name, sep=\";\", index=False)\n",
    "        final = time.time()"
   ]
  },
  {
   "cell_type": "code",
   "execution_count": null,
   "metadata": {},
   "outputs": [],
   "source": [
    "help(readPL4)"
   ]
  },
  {
   "cell_type": "code",
   "execution_count": null,
   "metadata": {},
   "outputs": [],
   "source": [
    "btn_dict = {\"Check01\": checked}\n",
    "\n",
    "\n",
    "if Check01.isChecked() == True:\n",
    "    for i in buses:\n",
    "        for x in np.around(np.arange(Ri, Rf + D, D), 5):\n",
    "            f.write(\"Fault01_B\" + i + \"_RF\" + str(x) + \".atp\\n\")\n",
    "            f.close\n"
   ]
  },
  {
   "cell_type": "code",
   "execution_count": 42,
   "metadata": {},
   "outputs": [
    {
     "name": "stdout",
     "output_type": "stream",
     "text": [
      "fault03_B801_RF0.atp\n",
      "fault03_B801_RF20.atp\n",
      "fault03_B801_RF40.atp\n",
      "fault03_B801_RF60.atp\n",
      "fault03_B801_RF80.atp\n",
      "fault03_B801_RF100.atp\n",
      "fault03_B815_RF0.atp\n",
      "fault03_B815_RF20.atp\n",
      "fault03_B815_RF40.atp\n",
      "fault03_B815_RF60.atp\n",
      "fault03_B815_RF80.atp\n",
      "fault03_B815_RF100.atp\n",
      "fault03_B900_RF0.atp\n",
      "fault03_B900_RF20.atp\n",
      "fault03_B900_RF40.atp\n",
      "fault03_B900_RF60.atp\n",
      "fault03_B900_RF80.atp\n",
      "fault03_B900_RF100.atp\n"
     ]
    }
   ],
   "source": [
    "buses = [801, 815, 900]\n",
    "impedances = [0, 20, 40, 60, 80, 100]\n",
    "\n",
    "\n",
    "class Check:\n",
    "    Check01 = False\n",
    "    Check02 = False\n",
    "    Check03 = True\n",
    "    Check04 = True\n",
    "    Check05 = False\n",
    "    Check06 = False\n",
    "    Check07 = True\n",
    "    Check08 = False\n",
    "    Check09 = False\n",
    "    Check10 = False\n",
    "\n",
    "\n",
    "check = Check()\n",
    "fault_checkbox = [\n",
    "    check.Check01,\n",
    "    check.Check02,\n",
    "    check.Check03,\n",
    "    check.Check04,\n",
    "    check.Check05,\n",
    "    check.Check06,\n",
    "    check.Check07,\n",
    "    check.Check08,\n",
    "    check.Check09,\n",
    "    check.Check10,\n",
    "]\n",
    "\n",
    "bus_impedance_gen = ((bus, Z) for bus in buses for Z in impedances)\n",
    "\n",
    "# for i, j in z:\n",
    "#     print(i, j)\n",
    "\n",
    "for idx, checkbox in enumerate(fault_checkbox):\n",
    "    if checkbox:\n",
    "        for bus, Z in bus_impedance_gen:\n",
    "            print(f\"fault{idx+1:02}_B{bus}_RF{Z}.atp\")\n",
    "\n",
    "import numpy as np\n",
    "\n",
    "\n",
    "def fault_list_creator(\n",
    "    impedances: np.ndarray, bus_impedance_list: list, fault_checkbox: list\n",
    "):\n",
    "    for idx, checkbox in enumerate(fault_checkbox):\n",
    "        print(checkbox.isChecked())\n",
    "        if checkbox.isChecked():\n",
    "            for bus, z in bus_impedance_gen:\n",
    "                f.write(f\"Fault{idx+1:02}_B{bus}_RF{z}.atp\\n\")\n",
    "                print(f\"Fault{idx+1:02}_B{bus}_RF{z}.atp\\n\")\n",
    "                f.close"
   ]
  },
  {
   "cell_type": "code",
   "execution_count": 45,
   "metadata": {},
   "outputs": [],
   "source": [
    "a = ((idx + 1, checkbox) for idx, checkbox in enumerate(fault_checkbox) if checkbox)\n"
   ]
  },
  {
   "cell_type": "code",
   "execution_count": 46,
   "metadata": {},
   "outputs": [
    {
     "name": "stdout",
     "output_type": "stream",
     "text": [
      "(3, True)\n",
      "(4, True)\n",
      "(7, True)\n"
     ]
    }
   ],
   "source": [
    "for i in a:\n",
    "    print(i)"
   ]
  },
  {
   "cell_type": "code",
   "execution_count": null,
   "metadata": {},
   "outputs": [],
   "source": [
    "def fault_list_creator(checked_faults: list, bus_impedance_list: list, f):\n",
    "    for idx in checked_faults:\n",
    "        for bus, z in bus_impedance_list:\n",
    "            f.write(f\"Fault{idx:02}_B{bus}_RF{z}.atp\\n\")\n",
    "            print(f\"Fault{idx:02}_B{bus}_RF{z}.atp\\n\")\n",
    "            f.close"
   ]
  }
 ],
 "metadata": {
  "kernelspec": {
   "display_name": "env",
   "language": "python",
   "name": "python3"
  },
  "language_info": {
   "codemirror_mode": {
    "name": "ipython",
    "version": 3
   },
   "file_extension": ".py",
   "mimetype": "text/x-python",
   "name": "python",
   "nbconvert_exporter": "python",
   "pygments_lexer": "ipython3",
   "version": "3.9.13"
  },
  "orig_nbformat": 4,
  "vscode": {
   "interpreter": {
    "hash": "aec31a771c32a0cee4173ee26dca4cfd94caa2411f79b653c92f19d0780438eb"
   }
  }
 },
 "nbformat": 4,
 "nbformat_minor": 2
}
