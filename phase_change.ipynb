{
 "cells": [
  {
   "attachments": {},
   "cell_type": "markdown",
   "metadata": {},
   "source": [
    "#### Demostración de info para hallar ángulo de fase de la fuente "
   ]
  },
  {
   "cell_type": "code",
   "execution_count": null,
   "metadata": {},
   "outputs": [],
   "source": [
    "with open(\"angle_test.atp\", \"r+\") as f:\n",
    "    lines = f.readlines()\n",
    "lines_copy = lines.copy()\n",
    "for line_idx, line in enumerate(lines):\n",
    "    if \"C MainSource\" == line.strip(\"\\n\"):\n",
    "        print(line_idx, line)\n",
    "        print(lines[line_idx+1][0:8])\n",
    "        print(lines[line_idx+1][8:16])\n",
    "        print(f\"16:24: {lines[line_idx+1][16:24]}\")\n",
    "        print(f\"24:32: {lines[line_idx+1][24:32]}\")\n",
    "        print(f\"32:40: {lines[line_idx+1][32:40]}\")\n",
    "        print(f\"40:48: {lines[line_idx+1][40:48]}\")\n",
    "        print(f\"48:56: {lines[line_idx+1][48:56]}\")\n",
    "        print(f\"56:64: {lines[line_idx+1][56:64]}\")\n",
    "        print(f\"64:72: {lines[line_idx+1][64:72]}\")\n",
    "        print(f\"64:72: {lines[line_idx+1][64:72]}\")\n",
    "        print(f\"72:80: {lines[line_idx+1][72:80]}\")\n",
    "\n",
    "        print(f\"Ángulo de fase utiliza 3 digitos y 5 decimales (9 posiciones):\")\n",
    "        print(f\"En las columnas [31:40]: {lines[line_idx+1][31:40]}\")\n",
    "        source_phase = lines[line_idx+1][31:40]\n",
    "\n",
    "# print(\"C MainSource\\n\" in lines_copy)"
   ]
  },
  {
   "cell_type": "code",
   "execution_count": 125,
   "metadata": {},
   "outputs": [
    {
     "name": "stdout",
     "output_type": "stream",
     "text": [
      "118.64052626406269\n",
      "188.84599671403654\n"
     ]
    }
   ],
   "source": [
    "print(source_phase)\n",
    "import random\n",
    "\n",
    "phase_int = random.randint(0, 360)\n",
    "phase_dec = random.random()\n",
    "source_phase = phase_int + phase_dec\n",
    "\n",
    "print(source_phase)\n",
    "if random_phase:\n",
    "    print(\"true\")\n"
   ]
  },
  {
   "cell_type": "code",
   "execution_count": 127,
   "metadata": {},
   "outputs": [
    {
     "name": "stdout",
     "output_type": "stream",
     "text": [
      "14SRCA    8164.96581       60. 123.12345                           -1.      100.\n",
      "\n",
      "14SRCA    8164.96581       60.   188.846                           -1.      100.\n",
      "\n"
     ]
    }
   ],
   "source": [
    "with open(\"angle_test.atp\") as f:\n",
    "    lines = f.readlines()\n",
    "lines_copy = lines.copy()\n",
    "random_phase = True\n",
    "for line_idx, line in enumerate(lines):\n",
    "    if \"C MainSource\" in line:\n",
    "        d_mainSource = line_idx + 1\n",
    "phase_line = lines_copy[d_mainSource]\n",
    "if random_phase:\n",
    "    lines_copy[d_mainSource] = f\"{phase_line[:30]}{str(round(source_phase, 5)):>10}{phase_line[40:]}\"\n",
    "    lines_copy[d_mainSource+1] = f\"{phase_line[:30]}{str(round(source_phase-120,5)):>10}{phase_line[40:]}\"\n",
    "    lines_copy[d_mainSource+2] = f\"{phase_line[:30]}{str(round(source_phase-240,5)):>10}{phase_line[40:]}\"\n",
    "print(phase_line)\n",
    "print(lines_copy[d_mainSource])\n",
    "with open(\"archivoprueba.atp\", \"w\") as f:\n",
    "    f.writelines(lines_copy)"
   ]
  },
  {
   "cell_type": "code",
   "execution_count": 128,
   "metadata": {},
   "outputs": [
    {
     "name": "stdout",
     "output_type": "stream",
     "text": [
      "Check mainSource/microGridSource comment\n",
      "Alvaro\n"
     ]
    }
   ],
   "source": [
    "try:\n",
    "    lines_copy[alvaro]\n",
    "except NameError:\n",
    "    print(\"Check mainSource/microGridSource comment\")\n",
    "\n"
   ]
  },
  {
   "cell_type": "code",
   "execution_count": null,
   "metadata": {},
   "outputs": [],
   "source": [
    "with open(\"IEEE34_Base.atp\", \"r+\") as f:\n",
    "    lines = f.readlines()\n",
    "lines_copy = lines.copy()\n",
    "for line_idx, line in enumerate(lines):\n",
    "    if \"C MainSource\" == line.strip(\"\\n\"):\n",
    "        print(line_idx, line)\n",
    "        print(lines[line_idx+1][0:8])\n",
    "        print(lines[line_idx+1][8:16])\n",
    "        print(f\"16:24: {lines[line_idx+1][16:24]}\")\n",
    "        print(f\"24:32: {lines[line_idx+1][24:32]}\")\n",
    "        print(f\"32:40: {lines[line_idx+1][32:40]}\")\n",
    "        print(f\"40:48: {lines[line_idx+1][40:48]}\")\n",
    "        print(f\"48:56: {lines[line_idx+1][48:56]}\")\n",
    "        print(f\"56:64: {lines[line_idx+1][56:64]}\")\n",
    "        print(f\"64:72: {lines[line_idx+1][64:72]}\")\n",
    "        print(f\"64:72: {lines[line_idx+1][64:72]}\")\n",
    "        print(f\"72:80: {lines[line_idx+1][72:80]}\")\n",
    "\n",
    "        print(f\"Ángulo de fase utiliza 3 digitos y 5 decimales (9 posiciones):\")\n",
    "        print(f\"En las columnas [31:40]: {lines[line_idx+1][31:40]}\")"
   ]
  },
  {
   "cell_type": "code",
   "execution_count": null,
   "metadata": {},
   "outputs": [],
   "source": []
  }
 ],
 "metadata": {
  "kernelspec": {
   "display_name": "env",
   "language": "python",
   "name": "python3"
  },
  "language_info": {
   "codemirror_mode": {
    "name": "ipython",
    "version": 3
   },
   "file_extension": ".py",
   "mimetype": "text/x-python",
   "name": "python",
   "nbconvert_exporter": "python",
   "pygments_lexer": "ipython3",
   "version": "3.9.13"
  },
  "orig_nbformat": 4,
  "vscode": {
   "interpreter": {
    "hash": "a1d1e47520e9c0583c8987221ad7a183ff82064afde39d1d51eb80ae44214080"
   }
  }
 },
 "nbformat": 4,
 "nbformat_minor": 2
}
