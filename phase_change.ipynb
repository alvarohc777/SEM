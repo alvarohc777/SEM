{
 "cells": [
  {
   "attachments": {},
   "cell_type": "markdown",
   "metadata": {},
   "source": [
    "#### Demostración de info para hallar ángulo de fase de la fuente "
   ]
  },
  {
   "cell_type": "code",
   "execution_count": null,
   "metadata": {},
   "outputs": [],
   "source": [
    "with open(\"IEEE34_form1_loads.atp\", \"r+\") as f:\n",
    "    lines = f.readlines()\n",
    "lines_copy = lines.copy()\n",
    "for idx, line in enumerate(lines_copy):\n",
    "    if 'C Load' in line:\n",
    "        if '3f' in line:\n",
    "            print(line, end='')\n",
    "            print(f\" Fase A carga trifásica/bifásica: {lines_copy[idx + 1]}\", end='')\n",
    "            print(f\" Fase B carga trifásica/bifásica: {lines_copy[idx + 2]}\", end='')\n",
    "            print(f\" Fase C carga trifásica/bifásica: {lines_copy[idx + 3]}\", end='')\n",
    "        else:\n",
    "            print(line, end='')\n",
    "            print(f\" Fase A carga monofásica: {lines_copy[idx + 1]}\", end='')\n",
    "\n"
   ]
  },
  {
   "cell_type": "code",
   "execution_count": null,
   "metadata": {},
   "outputs": [],
   "source": [
    "import numpy as np\n",
    "import matplotlib.pyplot as plt\n",
    "load_low = 80\n",
    "load_high = 120\n",
    "max_load_step = 5\n",
    "events_amount = 1000\n",
    "\n",
    "initial_load_values = np.around(np.random.uniform(load_low, load_high, events_amount), 2)\n",
    "counts, bins = np.histogram(initial_load_values)"
   ]
  },
  {
   "cell_type": "code",
   "execution_count": null,
   "metadata": {},
   "outputs": [],
   "source": [
    "\n",
    "plt.hist(bins[:-1], bins, weights=counts)\n",
    "plt.title('Distribución valores iniciales')\n",
    "\n",
    "plt.show()"
   ]
  },
  {
   "cell_type": "code",
   "execution_count": null,
   "metadata": {},
   "outputs": [],
   "source": [
    "load_values = initial_load_values.copy()\n",
    "print(load_values[600])\n",
    "print(initial_load_values[600])\n",
    "initial_load_values[600] = 0.5\n",
    "print(load_values[600])\n",
    "print(initial_load_values[600])\n",
    "\n",
    "\n",
    "higher_values_idx = np.where(load_values > load_high - max_load_step)\n",
    "higher_values = initial_load_values[higher_values_idx]\n",
    "load_values = np.delete(load_values, higher_values_idx)\n"
   ]
  },
  {
   "cell_type": "code",
   "execution_count": null,
   "metadata": {},
   "outputs": [],
   "source": [
    "lower_values_idx = np.where(load_values < load_low + max_load_step)\n",
    "lower_values = initial_load_values[lower_values_idx]\n",
    "load_values = np.delete(load_values, lower_values_idx)\n"
   ]
  },
  {
   "cell_type": "code",
   "execution_count": null,
   "metadata": {},
   "outputs": [],
   "source": [
    "def target_load(initial_load: np.ndarray, load_high: float, load_low: float, max_load_step: float)-> float:\n",
    "    \"\"\"Takes initual load perctentage and returns target load percentage\n",
    "\n",
    "    Parameters\n",
    "    ----------\n",
    "    initial_load : np.ndarray\n",
    "        Initial load percentage\n",
    "    load_high : float\n",
    "        Upper load percentage limit.\n",
    "    load_low : float\n",
    "        Lower load percentage limit.\n",
    "    max_load_step : float\n",
    "        Max percentage difference between initial_load and target load\n",
    "\n",
    "    Returns\n",
    "    -------\n",
    "    float\n",
    "        target load percentage\n",
    "    \"\"\"\n",
    "    max_val = initial_load + max_load_step\n",
    "    min_val = initial_load - max_load_step\n",
    "    if initial_load > load_high - max_load_step:\n",
    "        return np.random.uniform(min_val, load_high)\n",
    "    elif initial_load < load_low + max_load_step:\n",
    "        return np.random.uniform(load_low, max_val)\n",
    "    else:\n",
    "        return np.random.uniform(min_val, max_val)\n",
    "\n",
    "target_load_vect = np.vectorize(target_load)"
   ]
  },
  {
   "cell_type": "code",
   "execution_count": null,
   "metadata": {},
   "outputs": [],
   "source": [
    "final_values = target_load_vect(initial_load_values, load_high, load_low, max_load_step)\n",
    "final_values = np.around(final_values, 2)"
   ]
  },
  {
   "cell_type": "code",
   "execution_count": null,
   "metadata": {},
   "outputs": [],
   "source": [
    "print(np.where(final_values > load_high - max_load_step)[0].shape)"
   ]
  },
  {
   "cell_type": "code",
   "execution_count": null,
   "metadata": {},
   "outputs": [],
   "source": [
    "print(np.where(initial_load_values > load_high - max_load_step)[0].shape)"
   ]
  },
  {
   "cell_type": "code",
   "execution_count": null,
   "metadata": {},
   "outputs": [],
   "source": [
    "\n",
    "counts, bins = np.histogram(final_values)\n",
    "plt.hist(bins[:-1], bins, weights=counts)\n",
    "plt.title('Distribución valores finales')\n",
    "\n",
    "plt.show()"
   ]
  },
  {
   "cell_type": "code",
   "execution_count": null,
   "metadata": {},
   "outputs": [],
   "source": [
    "\n",
    "\n",
    "with open(\"IEEE34_form1_loads.atp\", \"r+\") as f:\n",
    "    lines = f.readlines()\n",
    "lines_copy = lines.copy()\n",
    "def loop():\n",
    "    for idx, line in enumerate(lines_copy):\n",
    "        if 'C Load' in line:\n",
    "            if '3f' in line:\n",
    "                print(line, end='')\n",
    "                print(f\" Fase A carga trifásica/bifásica: {lines_copy[idx + 1]}\", end='')\n",
    "                print(f\" Fase B carga trifásica/bifásica: {lines_copy[idx + 2]}\", end='')\n",
    "                print(f\" Fase C carga trifásica/bifásica: {lines_copy[idx + 3]}\", end='')\n",
    "            else:\n",
    "                print(line, end='')\n",
    "                print(f\" Fase A carga monofásica: {lines_copy[idx + 1]}\", end='')\n",
    "\n",
    "%timeit loop()"
   ]
  },
  {
   "cell_type": "code",
   "execution_count": 125,
   "metadata": {},
   "outputs": [
    {
     "name": "stdout",
     "output_type": "stream",
     "text": [
      "  X0072A                      6300.9146341    5040.7317073                     0\n",
      "  X0072B                      6300.9146341    5040.7317073                     0\n",
      "  X0072C                      6300.9146341    5040.7317073                     0\n",
      "(6300.9146341+5040.7317073j)\n",
      "(6300.9146341+5040.7317073j)\n",
      "(6300.9146341+5040.7317073j)\n",
      "  N840A                       14307.923077    11128.384615                     0\n",
      "  N840B                       14307.923077    11128.384615                     0\n",
      "  N840C                       14307.923077    11128.384615                     0\n",
      "(14307.923077+11128.384615j)\n",
      "(14307.923077+11128.384615j)\n",
      "(14307.923077+11128.384615j)\n",
      "  N844A                       953.86153846    741.89230769                     0\n",
      "  N844B                       953.86153846    741.89230769                     0\n",
      "  N844C                       953.86153846    741.89230769                     0\n",
      "(953.86153846+741.89230769j)\n",
      "(953.86153846+741.89230769j)\n",
      "(953.86153846+741.89230769j)\n",
      "  N830A N830B                      49600.8         24800.4                     0\n",
      "  N830B N830C                      49600.8         24800.4                     0\n",
      "  N830C N830A                 21379.655172     8551.862069                     0\n",
      "(49600.8+24800.4j)\n",
      "(49600.8+24800.4j)\n",
      "(21379.655172+8551.862069j)\n",
      "  N848A N848B                 18902.743902    15122.195122                     0\n",
      "  N848B N848C                 18902.743902    15122.195122                     0\n",
      "  N848C N848A                 18902.743902    15122.195122                     0\n",
      "(18902.743902+15122.195122j)\n",
      "(18902.743902+15122.195122j)\n",
      "(18902.743902+15122.195122j)\n",
      "  N802A                              1.E30           1.E30                     0\n",
      "  N802B                            11022.4          5511.2                     0\n",
      "  N802C                       12586.479903    7048.4287454                     0\n",
      "(1e+30+1e+30j)\n",
      "(11022.4+5511.2j)\n",
      "(12586.479903+7048.4287454j)\n",
      "  N806A                              1.E30           1.E30                     0\n",
      "  N806B                            11022.4          5511.2                     0\n",
      "  N806C                       12586.479903    7048.4287454                     0\n",
      "(1e+30+1e+30j)\n",
      "(11022.4+5511.2j)\n",
      "(12586.479903+7048.4287454j)\n",
      "  N840A N840B                       55112.          27556.                     0\n",
      "  N840B N840C                 45091.636364    22545.818182                     0\n",
      "  N840C N840A                        1.E30           1.E30                     0\n",
      "(55112+27556j)\n",
      "(45091.636364+22545.818182j)\n",
      "(1e+30+1e+30j)\n",
      "  N832A N832B                 149657.58621    64138.965517                     0\n",
      "  N832B N832C                      496008.         248004.                     0\n",
      "  N832C N832A                      165336.          82668.                     0\n",
      "(149657.58621+64138.965517j)\n",
      "(496008+248004j)\n",
      "(165336+82668j)\n",
      "  N358A N358B                 149657.58621    64138.965517                     0\n",
      "  N358B N358C                      496008.         248004.                     0\n",
      "  N358C N358A                      165336.          82668.                     0\n",
      "(149657.58621+64138.965517j)\n",
      "(496008+248004j)\n",
      "(165336+82668j)\n",
      "  N334A N334B                       62001.         31000.5                     0\n",
      "  N334B N334C                      49600.8         24800.4                     0\n",
      "  N334C N334A                 9018.3272727    4509.1636364                     0\n",
      "(62001+31000.5j)\n",
      "(49600.8+24800.4j)\n",
      "(9018.3272727+4509.1636364j)\n",
      "  N860A N860B                       62001.         31000.5                     0\n",
      "  N860B N860C                      49600.8         24800.4                     0\n",
      "  N860C N860A                 9018.3272727    4509.1636364                     0\n",
      "(62001+31000.5j)\n",
      "(49600.8+24800.4j)\n",
      "(9018.3272727+4509.1636364j)\n",
      "  X0005AX0005B                     248004.         124002.                     0\n",
      "  X0005BX0005C                64360.899654    34325.813149                     0\n",
      "  X0005CX0005A                73946.146789    39817.155963                     0\n",
      "(248004+124002j)\n",
      "(64360.899654+34325.813149j)\n",
      "(73946.146789+39817.155963j)\n",
      "  X0015AX0015B                     248004.         124002.                     0\n",
      "  X0015BX0015C                64360.899654    34325.813149                     0\n",
      "  X0015CX0015A                73946.146789    39817.155963                     0\n",
      "(248004+124002j)\n",
      "(64360.899654+34325.813149j)\n",
      "(73946.146789+39817.155963j)\n",
      "  X0072AX0072B                     33067.2         16533.6                     0\n",
      "  X0072BX0072C                91177.941176    54706.764706                     0\n",
      "  X0072CX0072A                23167.633452    12135.427046                     0\n",
      "(33067.2+16533.6j)\n",
      "(91177.941176+54706.764706j)\n",
      "(23167.633452+12135.427046j)\n",
      "  N844A                              1.E30           1.E30                     0\n",
      "  N844B                       13437.581274    6450.0390117                     0\n",
      "  N844C                       15867.178503    8726.9481766                     0\n",
      "(1e+30+1e+30j)\n",
      "(13437.581274+6450.0390117j)\n",
      "(15867.178503+8726.9481766j)\n",
      "  N846A                              1.E30           1.E30                     0\n",
      "  N846B                       13437.581274    6450.0390117                     0\n",
      "  N846C                       15867.178503    8726.9481766                     0\n",
      "(1e+30+1e+30j)\n",
      "(13437.581274+6450.0390117j)\n",
      "(15867.178503+8726.9481766j)\n",
      "  X0016AX0016B                     33067.2         16533.6                     0\n",
      "  X0016BX0016C                91177.941176    54706.764706                     0\n",
      "  X0016CX0016A                23167.633452    12135.427046                     0\n",
      "(33067.2+16533.6j)\n",
      "(91177.941176+54706.764706j)\n",
      "(23167.633452+12135.427046j)\n",
      "  X0002AX0002B                       1.E30           1.E30                     0\n",
      "  X0002BX0002C                213796.55172     85518.62069                     0\n",
      "  X0002CX0002A                       1.E30           1.E30                     0\n",
      "(1e+30+1e+30j)\n",
      "(213796.55172+85518.62069j)\n",
      "(1e+30+1e+30j)\n",
      "  N124A N124B                        1.E30           1.E30                     0\n",
      "  N124B N124C                 213796.55172     85518.62069                     0\n",
      "  N124C N124A                        1.E30           1.E30                     0\n",
      "(1e+30+1e+30j)\n",
      "(213796.55172+85518.62069j)\n",
      "(1e+30+1e+30j)\n",
      "  N832A                         38480.5719       17400.524                     0\n",
      "  N832B                           38743.03       17713.412                     0\n",
      "  N832C                         39927.5821       19130.092                     0\n",
      "(38480.5719+17400.524j)\n",
      "(38743.03+17713.412j)\n",
      "(39927.5821+19130.092j)\n"
     ]
    }
   ],
   "source": [
    "import numpy as np\n",
    "import matplotlib.pyplot as plt\n",
    "from scipy.stats import truncnorm\n",
    "\n",
    "# Validación suma admitancias serie\n",
    "with open(\"IEEE34_form1_loads.atp\", \"r+\") as f:\n",
    "    lines = f.readlines()\n",
    "lines_copy = lines.copy()\n",
    "three_phase_loads = []\n",
    "Ztri = np.empty()\n",
    "Za = np.empty((0,3))\n",
    "Zb = np.empty((0,3))\n",
    "Zc = np.empty((0,3))\n",
    "\n",
    "Ztotal = 0\n",
    "for idx, line in enumerate(lines_copy):\n",
    "    if \"C Load\" in line:\n",
    "        if \"3f\" in line:\n",
    "            print(lines_copy[idx + 1], end=\"\")\n",
    "            print(lines_copy[idx + 2], end=\"\")\n",
    "            print(lines_copy[idx + 3], end=\"\")\n",
    "            Ra = float(lines_copy[idx + 1][30:42])\n",
    "            Xa = float(lines_copy[idx + 1][46:58])\n",
    "            za = Ra + Xa * 1j\n",
    "            print(za)\n",
    "            Rb = float(lines_copy[idx + 2][30:42])\n",
    "            Xb = float(lines_copy[idx + 2][46:58])\n",
    "            zb = Rb + Xb * 1j\n",
    "            print(zb)\n",
    "            Rc = float(lines_copy[idx + 3][30:42])\n",
    "            Xc = float(lines_copy[idx + 3][46:58])\n",
    "            zc = Rc + Xc * 1j\n",
    "            print(zc)\n",
    "            # print(line, end='')\n",
    "            # print(f\" Fase A carga trifásica/bifásica: {lines_copy[idx + 1]}\", end='')\n",
    "            # print(f\" Fase B carga trifásica/bifásica: {lines_copy[idx + 2]}\", end='')\n",
    "            # print(f\" Fase C carga trifásica/bifásica: {lines_copy[idx + 3]}\", end='')\n",
    "        else:\n",
    "            pass\n",
    "            # if ' A' in line:\n",
    "            #     print('fase A')\n",
    "            # if ' B' in line:\n",
    "            #     print('fase B')\n",
    "            # if ' C' in line:\n",
    "            #     print('fase C')\n",
    "            # R = float(lines_copy[idx + 1][30:42])\n",
    "            # X = float(lines_copy[idx + 1][46:58])\n",
    "            # z = R + X * 1j\n",
    "            # Ztotal += 1/z\n",
    "            # Z = np.append(Z, 1/z)\n",
    "            # # # Print Values\n",
    "            # print(line, end=\"\")\n",
    "            # print(f\" Fase A carga monofásica: {lines_copy[idx + 1]}\", end='')\n",
    "            # print(f\"R: {lines_copy[idx + 1][30:42]}\")\n",
    "            # print(f\"X: {lines_copy[idx + 1][46:58]}\")\n"
   ]
  },
  {
   "cell_type": "code",
   "execution_count": 108,
   "metadata": {},
   "outputs": [
    {
     "data": {
      "image/png": "[encoded data removed]",
      "text/plain": [
       "<Figure size 640x480 with 1 Axes>"
      ]
     },
     "metadata": {},
     "output_type": "display_data"
    },
    {
     "name": "stdout",
     "output_type": "stream",
     "text": [
      "Promedio de las cargabilidades iniciales individuales: 0.7768938817758756\n",
      "Cargabilidad mínima: 0.7497, cargabilidad máxima: 0.8238\n"
     ]
    },
    {
     "data": {
      "image/png": "[encoded data removed]",
      "text/plain": [
       "<Figure size 640x480 with 1 Axes>"
      ]
     },
     "metadata": {},
     "output_type": "display_data"
    },
    {
     "name": "stdout",
     "output_type": "stream",
     "text": [
      "Promedio de las cargabilidades finales individuales: 0.03914057422878903\n",
      "Cargabilidad mínima: -0.01184, cargabilidad máxima: 0.07706\n"
     ]
    },
    {
     "data": {
      "image/png": "[encoded data removed]",
      "text/plain": [
       "<Figure size 640x480 with 1 Axes>"
      ]
     },
     "metadata": {},
     "output_type": "display_data"
    },
    {
     "name": "stdout",
     "output_type": "stream",
     "text": [
      "Promedio de las cargabilidades ideales individuales: 0.8127207658215408\n",
      "Cargabilidad mínima: 0.7802, cargabilidad máxima: 0.842\n",
      "0.030369686067999738\n",
      "Cargabilidad promedio método 1: 0.8072635678438753\n",
      "Cargabilidad promedio ideal: 0.8127207658215408\n"
     ]
    }
   ],
   "source": [
    "cargabilidad_inicial = 0.78\n",
    "cargabilidad_final = 0.82\n",
    "delta_cargabilidad = cargabilidad_final - cargabilidad_inicial\n",
    "\n",
    "load_amount = len(Z)\n",
    "def get_truncated_normal(mean=0, sd=1, low=0, upp=10):\n",
    "    return truncnorm((low - mean) / sd, (upp - mean) / sd, loc=mean, scale=sd)\n",
    "\n",
    "def plot_hist(data, title):\n",
    "    counts, bins = np.histogram(data)\n",
    "    plt.hist(bins[:-1], bins, weights=counts)\n",
    "    plt.title(f\"Distribución valores {title}\")\n",
    "    plt.show()\n",
    "    print(f\"Promedio de las cargabilidades {title} individuales: {np.mean(data)}\")\n",
    "    print(\n",
    "        f\"Cargabilidad mínima: {min(data):0.4}, cargabilidad máxima: {max(data):0.4}\"\n",
    "    )\n",
    "    \n",
    "\n",
    "initial_load = (\n",
    "    get_truncated_normal(mean=cargabilidad_inicial * 100, sd=2, low=30, upp=200).rvs(load_amount) / 100\n",
    ")\n",
    "target_load = (\n",
    "    get_truncated_normal(mean=delta_cargabilidad * 100, sd=2, low=-10, upp=10).rvs(load_amount) / 100\n",
    ")\n",
    "real_target_load = (\n",
    "    get_truncated_normal(mean=cargabilidad_final * 100, sd=2, low=-30, upp=200).rvs(load_amount) / 100\n",
    ")\n",
    "# Graficar la nueva distribución de datos\n",
    "plot_hist(initial_load, \"iniciales\")\n",
    "\n",
    "\n",
    "plot_hist(target_load, \"finales\")\n",
    "\n",
    "\n",
    "plot_hist(real_target_load, \"ideales\")\n",
    "\n",
    "\n",
    "print(np.mean(target_load*initial_load))\n",
    "print(f\"Cargabilidad promedio método 1: {np.mean(initial_load + target_load*initial_load)}\")\n",
    "print(f\"Cargabilidad promedio ideal: {np.mean(real_target_load)}\")"
   ]
  },
  {
   "cell_type": "code",
   "execution_count": 109,
   "metadata": {},
   "outputs": [
    {
     "name": "stdout",
     "output_type": "stream",
     "text": [
      "0.0777244968666767\n",
      "0.05949567888335776\n"
     ]
    }
   ],
   "source": [
    "a = real_target_load - initial_load\n",
    "b = target_load*initial_load\n",
    "\n",
    "print(max(a))\n",
    "print(max(b))"
   ]
  },
  {
   "cell_type": "code",
   "execution_count": 79,
   "metadata": {},
   "outputs": [
    {
     "name": "stdout",
     "output_type": "stream",
     "text": [
      "(0.001461266753749095-0.0007403106401551373j)\n",
      "(0.002191900130623642-0.001110465960232706j)\n",
      "(0.002196840366355296-0.0011130047254899534j)\n",
      "1.002260468529957\n"
     ]
    }
   ],
   "source": [
    "Ztotal_2 = Ztotal * cargabilidad\n",
    "print(Ztotal)\n",
    "print(Ztotal_2)\n",
    "print(np.sum(new_perc*Z))\n",
    "print(np.abs(np.sum(new_perc*Z)/Ztotal_2))"
   ]
  },
  {
   "attachments": {},
   "cell_type": "markdown",
   "metadata": {},
   "source": [
    "### Validación obtención admitancias \n",
    "\n",
    "##### Suposiciones:\n",
    "\n",
    "- El voltaje en todos los nodos es igual al voltaje nominal\n",
    "- Las fases están balanceadas\n",
    "- La cargabilidad del sistema está solo determinado por las cargas (i.e. no se consideran pérdidas en líneas ni otros elementos.)"
   ]
  },
  {
   "cell_type": "code",
   "execution_count": null,
   "metadata": {},
   "outputs": [],
   "source": [
    "import numpy as np\n",
    "import matplotlib.pyplot as plt\n",
    "from scipy.stats import truncnorm\n",
    "\n",
    "# Crear aleatoriamente las cargas\n",
    "R = np.random.triangular(0.01, 0.5, 0.9, 100)\n",
    "X = np.random.triangular(0.01, 0.9, 0.9, 100)\n",
    "Z = R + X * 1j\n",
    "Y = 1 / Z\n",
    "Yt = np.sum(Y)\n"
   ]
  },
  {
   "cell_type": "code",
   "execution_count": null,
   "metadata": {},
   "outputs": [],
   "source": [
    "# Crear aleatoriamente las nuevas cargas, individualmente\n",
    "# a partir de una distribución normal truncada\n",
    "cargabilidad = 0.4\n",
    "loads_amount = len(Y)\n",
    "new_perc = np.random.triangular(0.3, cargabilidad, 2, loads_amount)\n",
    "Yt2 = Yt * cargabilidad\n",
    "\n",
    "\n",
    "def get_truncated_normal(mean=0, sd=1, low=0, upp=10):\n",
    "    return truncnorm((low - mean) / sd, (upp - mean) / sd, loc=mean, scale=sd)\n",
    "\n",
    "\n",
    "new_perc = (\n",
    "    get_truncated_normal(mean=cargabilidad * 100, sd=2, low=30, upp=200).rvs(100) / 100\n",
    ")\n"
   ]
  },
  {
   "cell_type": "code",
   "execution_count": null,
   "metadata": {},
   "outputs": [],
   "source": [
    "# Graficar la nueva distribución de datos\n",
    "counts, bins = np.histogram(new_perc)\n",
    "plt.hist(bins[:-1], bins, weights=counts)\n",
    "plt.title(\"Distribución valores finales\")\n",
    "print(f\"Promedio de las nuevas cargabilidades individuales: {np.mean(new_perc)}\")\n",
    "print(\n",
    "    f\"Cargabilidad mínima: {min(new_perc):0.4}, cargabilidad máxima: {max(new_perc):0.4}\"\n",
    ")\n",
    "plt.show()\n"
   ]
  },
  {
   "cell_type": "code",
   "execution_count": null,
   "metadata": {},
   "outputs": [],
   "source": [
    "Ynew = Y * new_perc\n",
    "print(f\"Promedio nueva distribución de cargabilidad: {np.abs(np.mean(Ynew)/np.mean(Y)):.3%}\")\n",
    "print(f\"Impedancia cargabilidad {cargabilidad:.1%}: {np.sum(Ynew):.4}\")"
   ]
  },
  {
   "cell_type": "code",
   "execution_count": null,
   "metadata": {},
   "outputs": [],
   "source": [
    "print(f\"Impedancia Cargabilidad Nominal (100%): {Yt:.4}\")\n",
    "print(f\"Impedancia Cargabilidad {cargabilidad:.1%}: {Yt2:.4}\")"
   ]
  },
  {
   "cell_type": "code",
   "execution_count": null,
   "metadata": {},
   "outputs": [],
   "source": []
  }
 ],
 "metadata": {
  "kernelspec": {
   "display_name": "env",
   "language": "python",
   "name": "python3"
  },
  "language_info": {
   "codemirror_mode": {
    "name": "ipython",
    "version": 3
   },
   "file_extension": ".py",
   "mimetype": "text/x-python",
   "name": "python",
   "nbconvert_exporter": "python",
   "pygments_lexer": "ipython3",
   "version": "3.9.0"
  },
  "orig_nbformat": 4,
  "vscode": {
   "interpreter": {
    "hash": "aec31a771c32a0cee4173ee26dca4cfd94caa2411f79b653c92f19d0780438eb"
   }
  }
 },
 "nbformat": 4,
 "nbformat_minor": 2
}
