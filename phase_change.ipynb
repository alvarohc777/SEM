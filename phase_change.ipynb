{
 "cells": [
  {
   "cell_type": "code",
   "execution_count": 28,
   "metadata": {},
   "outputs": [
    {
     "name": "stdout",
     "output_type": "stream",
     "text": [
      "C MainSource\n",
      "\n",
      "True\n"
     ]
    }
   ],
   "source": [
    "with open(\"angle_test.atp\", \"r+\") as f:\n",
    "    lines = f.readlines()\n",
    "lines_copy = lines.copy()\n",
    "for line_idx, line in enumerate(lines):\n",
    "    if \"C MainSource\" == line.strip(\"\\n\"):\n",
    "        print(line)\n",
    "\n",
    "print(\"C MainSource\\n\" in lines_copy)"
   ]
  },
  {
   "cell_type": "code",
   "execution_count": 25,
   "metadata": {},
   "outputs": [
    {
     "name": "stdout",
     "output_type": "stream",
     "text": [
      "Esto es una prueba\n",
      "Llamando la función desde el diccionario: Esto es una prueba\n"
     ]
    }
   ],
   "source": [
    "def prueba():\n",
    "    return \"Esto es una prueba\"\n",
    "print(prueba())\n",
    "a = {}\n",
    "a['Funcion'] = prueba\n",
    "\n",
    "print(f\"Llamando la función desde el diccionario: {a['Funcion']()}\")\n"
   ]
  },
  {
   "cell_type": "code",
   "execution_count": null,
   "metadata": {},
   "outputs": [],
   "source": []
  }
 ],
 "metadata": {
  "kernelspec": {
   "display_name": "env",
   "language": "python",
   "name": "python3"
  },
  "language_info": {
   "codemirror_mode": {
    "name": "ipython",
    "version": 3
   },
   "file_extension": ".py",
   "mimetype": "text/x-python",
   "name": "python",
   "nbconvert_exporter": "python",
   "pygments_lexer": "ipython3",
   "version": "3.9.0"
  },
  "orig_nbformat": 4,
  "vscode": {
   "interpreter": {
    "hash": "81d1759185da2d3e1a6804fd00dfdb079df100e16ca14f08be0b9024957b4e24"
   }
  }
 },
 "nbformat": 4,
 "nbformat_minor": 2
}
