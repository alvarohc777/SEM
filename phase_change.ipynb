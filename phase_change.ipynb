{
 "cells": [
  {
   "cell_type": "code",
   "execution_count": null,
   "metadata": {},
   "outputs": [],
   "source": [
    "def target_load(initial_load: np.ndarray, load_high: float, load_low: float, max_load_step: float)-> float:\n",
    "    \"\"\"Takes initual load perctentage and returns target load percentage\n",
    "\n",
    "    Parameters\n",
    "    ----------\n",
    "    initial_load : np.ndarray\n",
    "        Initial load percentage\n",
    "    load_high : float\n",
    "        Upper load percentage limit.\n",
    "    load_low : float\n",
    "        Lower load percentage limit.\n",
    "    max_load_step : float\n",
    "        Max percentage difference between initial_load and target load\n",
    "\n",
    "    Returns\n",
    "    -------\n",
    "    float\n",
    "        target load percentage\n",
    "    \"\"\"\n",
    "    max_val = initial_load + max_load_step\n",
    "    min_val = initial_load - max_load_step\n",
    "    if initial_load > load_high - max_load_step:\n",
    "        return np.random.uniform(min_val, load_high)\n",
    "    elif initial_load < load_low + max_load_step:\n",
    "        return np.random.uniform(load_low, max_val)\n",
    "    else:\n",
    "        return np.random.uniform(min_val, max_val)\n",
    "\n",
    "target_load_vect = np.vectorize(target_load)"
   ]
  },
  {
   "cell_type": "code",
   "execution_count": null,
   "metadata": {},
   "outputs": [],
   "source": [
    "final_values = target_load_vect(initial_load_values, load_high, load_low, max_load_step)\n",
    "final_values = np.around(final_values, 2)"
   ]
  },
  {
   "cell_type": "code",
   "execution_count": null,
   "metadata": {},
   "outputs": [],
   "source": [
    "print(np.where(final_values > load_high - max_load_step)[0].shape)"
   ]
  },
  {
   "cell_type": "code",
   "execution_count": null,
   "metadata": {},
   "outputs": [],
   "source": [
    "print(np.where(initial_load_values > load_high - max_load_step)[0].shape)"
   ]
  },
  {
   "cell_type": "code",
   "execution_count": null,
   "metadata": {},
   "outputs": [],
   "source": [
    "\n",
    "counts, bins = np.histogram(final_values)\n",
    "plt.hist(bins[:-1], bins, weights=counts)\n",
    "plt.title('Distribución valores finales')\n",
    "\n",
    "plt.show()"
   ]
  },
  {
   "cell_type": "code",
   "execution_count": null,
   "metadata": {},
   "outputs": [],
   "source": [
    "\n",
    "\n",
    "with open(\"IEEE34_form1_loads.atp\", \"r+\") as f:\n",
    "    lines = f.readlines()\n",
    "lines_copy = lines.copy()\n",
    "def loop():\n",
    "    for idx, line in enumerate(lines_copy):\n",
    "        if 'C Load' in line:\n",
    "            if '3f' in line:\n",
    "                print(line, end='')\n",
    "                print(f\" Fase A carga trifásica/bifásica: {lines_copy[idx + 1]}\", end='')\n",
    "                print(f\" Fase B carga trifásica/bifásica: {lines_copy[idx + 2]}\", end='')\n",
    "                print(f\" Fase C carga trifásica/bifásica: {lines_copy[idx + 3]}\", end='')\n",
    "            else:\n",
    "                print(line, end='')\n",
    "                print(f\" Fase A carga monofásica: {lines_copy[idx + 1]}\", end='')\n",
    "\n",
    "%timeit loop()"
   ]
  },
  {
   "cell_type": "code",
   "execution_count": 554,
   "metadata": {},
   "outputs": [],
   "source": [
    "import numpy as np\n",
    "import matplotlib.pyplot as plt\n",
    "from scipy.stats import truncnorm\n",
    "\n",
    "\n",
    "# Distribución normal truncada\n",
    "def get_truncated_normal(\n",
    "    mean: float = 0, sd: int = 1, low: float = 0, upp: float = 10\n",
    ") -> np.ndarray:\n",
    "    \"\"\"Return array of truncated normal distribution with:\n",
    "    mean = mean\n",
    "    standard deviation = sd\n",
    "    lower limit = low\n",
    "    upper limit = upp\n",
    "\n",
    "    Parameters\n",
    "    ----------\n",
    "    mean : float, optional\n",
    "        Truncated distribution Mean, by default 0\n",
    "    sd : int, optional\n",
    "        Truncated distribution standard deviation, by default 1\n",
    "    low : float, optional\n",
    "        Truncated distribution lower limit, by default 0\n",
    "    upp : float, optional\n",
    "        Truncated distribution upper limit, by default 10\n",
    "\n",
    "    Returns\n",
    "    -------\n",
    "    np.ndarray\n",
    "        Array of truncated normal distribution\n",
    "    \"\"\"\n",
    "    return truncnorm((low - mean) / sd, (upp - mean) / sd, loc=mean, scale=sd)\n",
    "\n",
    "\n",
    "def load_split(\n",
    "    array: np.ndarray, len_a: int, len_b: int, len_c: int\n",
    ") -> tuple[np.ndarray, np.ndarray, np.ndarray]:\n",
    "    \"\"\"Splits array of normal distribution load percentages into\n",
    "    three new arrays, one for each phase.\n",
    "\n",
    "    Parameters\n",
    "    ----------\n",
    "    array : np.ndarray\n",
    "        Array of percentages\n",
    "    len_a : int\n",
    "        Amount of loads on phase A\n",
    "    len_b : int\n",
    "        Amount of loads on phase B\n",
    "    len_c : int\n",
    "        Amount of loads on phase C\n",
    "\n",
    "    Returns\n",
    "    -------\n",
    "    tuple[np.ndarray, np.ndarray, np.ndarray]\n",
    "        load percentages split for phase A, B and C, respectively\n",
    "    \"\"\"\n",
    "    a = array[:len_a]\n",
    "    b = array[len_a : len_a + len_b]\n",
    "    c = array[len_a + len_b :]\n",
    "    return a, b, c\n",
    "\n",
    "\n",
    "# Graficar histograma de los nuevos datos\n",
    "def plot_hist(data: np.ndarray, title: str):\n",
    "    \"\"\"Plots histogram of distribution of percentages\n",
    "\n",
    "    Parameters\n",
    "    ----------\n",
    "    data : np.ndarray\n",
    "        Numpy array with load percentages\n",
    "    title : str\n",
    "        Title for plot and prints\n",
    "    \"\"\"\n",
    "    counts, bins = np.histogram(data)\n",
    "    plt.hist(bins[:-1], bins, weights=counts)\n",
    "    plt.title(f\"Distribución valores {title}\")\n",
    "    plt.show()\n",
    "    print(f\"Promedio de las cargabilidades {title} individuales: {np.mean(data)}\")\n",
    "    print(f\"Cargabilidad mínima: {min(data):0.4}, cargabilidad máxima: {max(data):0.4}\")\n",
    "\n",
    "\n",
    "# Validación suma admitancias serie\n",
    "with open(\"IEEE34_form1_update_loads.atp\", \"r+\") as f:\n",
    "    lines = f.readlines()\n",
    "lines_copy = lines.copy()\n",
    "three_phase_loads = []\n",
    "Za = np.empty((0, 2))\n",
    "Zb = np.empty((0, 2))\n",
    "Zc = np.empty((0, 2))\n",
    "\n",
    "Ztotal = 0\n",
    "for idx, line in enumerate(lines_copy):\n",
    "    if \"C Load\" in line:\n",
    "        if \"3f\" in line:\n",
    "            # print(lines_copy[idx + 1], end=\"\")\n",
    "            # print(lines_copy[idx + 2], end=\"\")\n",
    "            # print(lines_copy[idx + 3], end=\"\")\n",
    "            Ra = float(lines_copy[idx + 1][30:42])\n",
    "            Xa = float(lines_copy[idx + 1][46:58])\n",
    "            za = Ra + Xa * 1j\n",
    "            if not np.abs(za) > 1e20:\n",
    "                Za = np.append(Za, [[idx + 1, za]], axis=0)\n",
    "\n",
    "            Rb = float(lines_copy[idx + 2][30:42])\n",
    "            Xb = float(lines_copy[idx + 2][46:58])\n",
    "            zb = Rb + Xb * 1j\n",
    "            if not np.abs(zb) > 1e20:\n",
    "                Zb = np.append(Zb, [[idx + 2, zb]], axis=0)\n",
    "\n",
    "            Rc = float(lines_copy[idx + 3][30:42])\n",
    "            Xc = float(lines_copy[idx + 3][46:58])\n",
    "            zc = Rc + Xc * 1j\n",
    "            if not np.abs(zc) > 1e20:\n",
    "                Zc = np.append(Zc, [[idx + 3, zc]], axis=0)\n",
    "\n",
    "        else:\n",
    "            R = float(lines_copy[idx + 1][30:42])\n",
    "            X = float(lines_copy[idx + 1][46:58])\n",
    "            z = R + X * 1j\n",
    "            if \" A\" in line:\n",
    "                Za = np.append(Za, [[idx + 1, z]], axis=0)\n",
    "            if \" B\" in line:\n",
    "                Zb = np.append(Zb, [[idx + 1, z]], axis=0)\n",
    "            if \" C\" in line:\n",
    "                Zc = np.append(Zc, [[idx + 1, z]], axis=0)\n",
    "    if \"C switch load tri\" in line:\n",
    "        \n",
    "        three_phase_switch = lines_copy[idx:idx+4].copy()\n",
    "    elif \"C switch load mono\" in line:\n",
    "        mono_switch = lines_copy[idx:idx+2].copy()"
   ]
  },
  {
   "cell_type": "code",
   "execution_count": 555,
   "metadata": {},
   "outputs": [
    {
     "name": "stdout",
     "output_type": "stream",
     "text": [
      "['C switch load tri\\n', '  TRIINATRILDA       -1.      1.E3                                             0\\n', '  TRIINBTRILDB       -1.      1.E3                                             0\\n', '  TRIINCTRILDC       -1.      1.E3                                             0\\n']\n",
      "['C switch load mono\\n', '  MONOINMONOLD       -1.      1.E3                                             0\\n']\n"
     ]
    }
   ],
   "source": [
    "print(three_phase_switch)\n",
    "print(mono_switch)"
   ]
  },
  {
   "cell_type": "code",
   "execution_count": 558,
   "metadata": {},
   "outputs": [
    {
     "data": {
      "image/png": "[encoded data removed]",
      "text/plain": [
       "<Figure size 640x480 with 1 Axes>"
      ]
     },
     "metadata": {},
     "output_type": "display_data"
    },
    {
     "name": "stdout",
     "output_type": "stream",
     "text": [
      "Promedio de las cargabilidades Initial individuales: 0.8998010843633832\n",
      "Cargabilidad mínima: 0.8803, cargabilidad máxima: 0.9239\n"
     ]
    },
    {
     "data": {
      "image/png": "[encoded data removed]",
      "text/plain": [
       "<Figure size 640x480 with 1 Axes>"
      ]
     },
     "metadata": {},
     "output_type": "display_data"
    },
    {
     "name": "stdout",
     "output_type": "stream",
     "text": [
      "Promedio de las cargabilidades Target individuales: 0.050277470361653455\n",
      "Cargabilidad mínima: 0.03203, cargabilidad máxima: 0.07173\n"
     ]
    },
    {
     "data": {
      "image/png": "[encoded data removed]",
      "text/plain": [
       "<Figure size 640x480 with 1 Axes>"
      ]
     },
     "metadata": {},
     "output_type": "display_data"
    },
    {
     "name": "stdout",
     "output_type": "stream",
     "text": [
      "Promedio de las cargabilidades Target_2 individuales: 0.9486393463624745\n",
      "Cargabilidad mínima: 0.9192, cargabilidad máxima: 0.9696\n",
      "Porcentaje de cargabilidad inicial real: 89.980%\n",
      "Porcentaje de cargabilidad final real: 94.266%\n",
      "Porcentaje de cargabilidad final real 2: 95.028%\n",
      "Porcentaje de cambio entre inicial y final: 4.764%\n",
      "Porcentaje de cambio entre inicial y final 2: 5.611%\n"
     ]
    }
   ],
   "source": [
    "# Find Y total for each phase\n",
    "Ya = 1 / Za[:, 1]\n",
    "Yb = 1 / Zb[:, 1]\n",
    "Yc = 1 / Zc[:, 1]\n",
    "Ya_total = np.sum(Ya)\n",
    "Yb_total = np.sum(Yb)\n",
    "Yc_total = np.sum(Yc)\n",
    "\n",
    "Y_total = Ya_total + Yb_total + Yc_total\n",
    "\n",
    "\n",
    "len_a = Za.shape[0]\n",
    "len_b = Zb.shape[0]\n",
    "len_c = Zc.shape[0]\n",
    "load_amount = len_a + len_b + len_c\n",
    "\n",
    "cargabilidad_inicial = 0.90\n",
    "cargabilidad_final = 0.95\n",
    "delta_cargabilidad = cargabilidad_final - cargabilidad_inicial\n",
    "\n",
    "initial_load = (\n",
    "    get_truncated_normal(mean=cargabilidad_inicial * 100, sd=1, low=0, upp=200).rvs(\n",
    "        load_amount\n",
    "    )\n",
    "    / 100\n",
    ")\n",
    "target_load = (\n",
    "    get_truncated_normal(mean=delta_cargabilidad * 100, sd=1, low=-10, upp=10).rvs(\n",
    "        load_amount\n",
    "    )\n",
    "    / 100\n",
    ")\n",
    "target_load_2 = (\n",
    "    get_truncated_normal(mean=cargabilidad_final * 100, sd=1, low=30, upp=200).rvs(\n",
    "        load_amount\n",
    "    )\n",
    "    / 100\n",
    ")\n",
    "\n",
    "\n",
    "\n",
    "\n",
    "initial_a, initial_b, initial_c = load_split(initial_load, len_a, len_b, len_c)\n",
    "target_a, target_b, target_c = load_split(target_load, len_a, len_b, len_c)\n",
    "target_a_2, target_b_2, target_c_2 = load_split(target_load_2, len_a, len_b, len_c)\n",
    "plot_hist(initial_load, 'Initial')\n",
    "plot_hist(target_load, 'Target')\n",
    "plot_hist(target_load_2, 'Target_2')\n",
    "\n",
    "# Admitancias por fase iniciales y finales\n",
    "Ya_initial, Yb_initial, Yc_initial = Ya * initial_a, Yb * initial_b, Yc * initial_c\n",
    "Ya_target_2, Yb_target_2, Yc_target_2 = Ya * target_a_2, Yb * target_b_2, Yc * target_c_2\n",
    "Ya_target = Ya_initial * target_a + Ya_initial\n",
    "Yb_target = Yb_initial * target_b + Yb_initial\n",
    "Yc_target = Yc_initial * target_c + Yc_initial\n",
    "\n",
    "# Admitancia total luego de la variación de carga\n",
    "Y_initial_total = Ya_initial.sum() + Yb_initial.sum() + Yc_initial.sum()\n",
    "Y_target_total = Ya_target.sum() + Yb_target.sum() + Yc_target.sum()\n",
    "Y_target_total_2 = Ya_target_2.sum() + Yb_target_2.sum() + Yc_target_2.sum()\n",
    "\n",
    "# Procentaje de Cambio\n",
    "print(\n",
    "    f\"Porcentaje de cargabilidad inicial real: {abs(Y_initial_total) / abs(Y_total):.3%}\"\n",
    ")\n",
    "print(\n",
    "    f\"Porcentaje de cargabilidad final real: {abs(Y_target_total) / abs(Y_total):.3%}\"\n",
    ")\n",
    "print(\n",
    "    f\"Porcentaje de cargabilidad final real 2: {abs(Y_target_total_2) / abs(Y_total):.3%}\"\n",
    ")\n",
    "print(\n",
    "    f\"Porcentaje de cambio entre inicial y final: {abs(Y_target_total - Y_initial_total )/ abs(Y_initial_total):.3%}\"\n",
    ")\n",
    "print(\n",
    "    f\"Porcentaje de cambio entre inicial y final 2: {abs(Y_target_total_2 - Y_initial_total )/ abs(Y_initial_total):.3%}\"\n",
    ")\n"
   ]
  },
  {
   "cell_type": "code",
   "execution_count": 557,
   "metadata": {},
   "outputs": [],
   "source": [
    "# Hallar impedancias a partir de las admitancias\n",
    "Za_initial = 1 / Ya_initial\n",
    "Zb_initial = 1 / Yb_initial\n",
    "Zc_initial = 1 / Yc_initial\n",
    "Za_target = 1 / Ya_target\n",
    "Zb_target = 1 / Yb_target\n",
    "Zc_target = 1 / Yc_target\n",
    "\n",
    "\n",
    "Za_ini = np.append([Za[:, 0]], [Za_initial], axis=0).T\n",
    "Za_tar = np.append([Za[:, 0]], [Za_target], axis=0).T\n",
    "Zb_ini = np.append([Zb[:, 0]], [Zb_initial], axis=0).T\n",
    "Zb_tar = np.append([Zb[:, 0]], [Zb_target], axis=0).T\n",
    "Zc_ini = np.append([Zc[:, 0]], [Zc_initial], axis=0).T\n",
    "Zc_tar = np.append([Zc[:, 0]], [Zc_target], axis=0).T"
   ]
  },
  {
   "cell_type": "code",
   "execution_count": 532,
   "metadata": {},
   "outputs": [],
   "source": [
    "def update_loads(Z_array: np.ndarray, lines_copy: list) -> list:\n",
    "    \"\"\"Returns list of lines with updated impedances\n",
    "\n",
    "    Parameters\n",
    "    ----------\n",
    "    Z_array : np.ndarray\n",
    "        Array of indices and impedances (complex number).\n",
    "        Dimension (m, 2), where\n",
    "            m = number of impedances\n",
    "            (,0) = indices column\n",
    "            (,1) = impedances column\n",
    "    lines_copy : list\n",
    "        List with .atp file content\n",
    "\n",
    "    Returns\n",
    "    -------\n",
    "    list\n",
    "        List of .atp file content with updated impedances\n",
    "    \"\"\"\n",
    "    for Z in Z_array:\n",
    "        idx = Z[0]\n",
    "        z = Z[1]\n",
    "\n",
    "        idx = int(idx)\n",
    "        R = f\"{z.real:.6f}\".center(12)\n",
    "        X = f\"{z.imag:.6f}\".center(12)\n",
    "        line = lines_copy[idx]\n",
    "        new_line = f\"{line[:30]}{R}{line[42:46]}{X}{line[58:]}\"\n",
    "\n",
    "        lines_copy[idx] = new_line\n",
    "    return lines_copy\n",
    "\n",
    "\n",
    "\n",
    "\n",
    "    # f.writelines(lines_copy)\n"
   ]
  },
  {
   "cell_type": "code",
   "execution_count": null,
   "metadata": {},
   "outputs": [],
   "source": [
    "with open(\"IEEE34_form1_update_loads_prueba.atp\", \"w+\") as f:\n",
    "    lines_copy = update_loads(Za_ini, lines_copy)\n",
    "    lines_copy = update_loads(Zb_ini, lines_copy)\n",
    "    lines_copy = update_loads(Zc_ini, lines_copy)\n",
    "    f.writelines(lines_copy)"
   ]
  },
  {
   "cell_type": "code",
   "execution_count": 498,
   "metadata": {},
   "outputs": [
    {
     "data": {
      "image/png": "[encoded data removed]",
      "text/plain": [
       "<Figure size 640x480 with 1 Axes>"
      ]
     },
     "metadata": {},
     "output_type": "display_data"
    },
    {
     "name": "stdout",
     "output_type": "stream",
     "text": [
      "Promedio de las cargabilidades iniciales individuales: 0.7812627767545021\n",
      "Cargabilidad mínima: 0.7423, cargabilidad máxima: 0.8224\n"
     ]
    },
    {
     "data": {
      "image/png": "[encoded data removed]",
      "text/plain": [
       "<Figure size 640x480 with 1 Axes>"
      ]
     },
     "metadata": {},
     "output_type": "display_data"
    },
    {
     "name": "stdout",
     "output_type": "stream",
     "text": [
      "Promedio de las cargabilidades finales individuales: 0.04038158402647143\n",
      "Cargabilidad mínima: -0.001109, cargabilidad máxima: 0.08691\n"
     ]
    },
    {
     "data": {
      "image/png": "[encoded data removed]",
      "text/plain": [
       "<Figure size 640x480 with 1 Axes>"
      ]
     },
     "metadata": {},
     "output_type": "display_data"
    },
    {
     "name": "stdout",
     "output_type": "stream",
     "text": [
      "Promedio de las cargabilidades ideales individuales: 0.8223219799500543\n",
      "Cargabilidad mínima: 0.767, cargabilidad máxima: 0.8696\n",
      "0.03161426354636107\n",
      "Cargabilidad promedio método 1: 0.812877040300863\n",
      "Cargabilidad promedio ideal: 0.8223219799500543\n"
     ]
    }
   ],
   "source": [
    "cargabilidad_inicial = 0.78\n",
    "cargabilidad_final = 0.82\n",
    "delta_cargabilidad = cargabilidad_final - cargabilidad_inicial\n",
    "\n",
    "\n",
    "\n",
    "\n",
    "\n",
    "\n",
    "initial_load = (\n",
    "    get_truncated_normal(mean=cargabilidad_inicial * 100, sd=2, low=30, upp=200).rvs(load_amount) / 100\n",
    ")\n",
    "target_load = (\n",
    "    get_truncated_normal(mean=delta_cargabilidad * 100, sd=2, low=-10, upp=10).rvs(load_amount) / 100\n",
    ")\n",
    "real_target_load = (\n",
    "    get_truncated_normal(mean=cargabilidad_final * 100, sd=2, low=-30, upp=200).rvs(load_amount) / 100\n",
    ")\n",
    "# Graficar la nueva distribución de datos\n",
    "plot_hist(initial_load, \"iniciales\")\n",
    "\n",
    "\n",
    "plot_hist(target_load, \"finales\")\n",
    "\n",
    "\n",
    "plot_hist(real_target_load, \"ideales\")\n",
    "\n",
    "\n",
    "print(np.mean(target_load*initial_load))\n",
    "print(f\"Cargabilidad promedio método 1: {np.mean(initial_load + target_load*initial_load)}\")\n",
    "print(f\"Cargabilidad promedio ideal: {np.mean(real_target_load)}\")"
   ]
  },
  {
   "attachments": {},
   "cell_type": "markdown",
   "metadata": {},
   "source": [
    "### Validación obtención admitancias \n",
    "\n",
    "##### Suposiciones:\n",
    "\n",
    "- El voltaje en todos los nodos es igual al voltaje nominal\n",
    "- Las fases están balanceadas\n",
    "- La cargabilidad del sistema está solo determinado por las cargas (i.e. no se consideran pérdidas en líneas ni otros elementos.)"
   ]
  }
 ],
 "metadata": {
  "kernelspec": {
   "display_name": "env",
   "language": "python",
   "name": "python3"
  },
  "language_info": {
   "codemirror_mode": {
    "name": "ipython",
    "version": 3
   },
   "file_extension": ".py",
   "mimetype": "text/x-python",
   "name": "python",
   "nbconvert_exporter": "python",
   "pygments_lexer": "ipython3",
   "version": "3.9.0"
  },
  "orig_nbformat": 4,
  "vscode": {
   "interpreter": {
    "hash": "aec31a771c32a0cee4173ee26dca4cfd94caa2411f79b653c92f19d0780438eb"
   }
  }
 },
 "nbformat": 4,
 "nbformat_minor": 2
}
