{
 "cells": [
  {
   "attachments": {},
   "cell_type": "markdown",
   "metadata": {},
   "source": [
    "#### Demostración de info para hallar ángulo de fase de la fuente "
   ]
  },
  {
   "cell_type": "code",
   "execution_count": 3,
   "metadata": {},
   "outputs": [
    {
     "ename": "FileNotFoundError",
     "evalue": "[Errno 2] No such file or directory: 'angle_test.atp'",
     "output_type": "error",
     "traceback": [
      "\u001b[1;31m---------------------------------------------------------------------------\u001b[0m",
      "\u001b[1;31mFileNotFoundError\u001b[0m                         Traceback (most recent call last)",
      "Cell \u001b[1;32mIn[3], line 1\u001b[0m\n\u001b[1;32m----> 1\u001b[0m \u001b[39mwith\u001b[39;00m \u001b[39mopen\u001b[39;49m(\u001b[39m\"\u001b[39;49m\u001b[39mangle_test.atp\u001b[39;49m\u001b[39m\"\u001b[39;49m, \u001b[39m\"\u001b[39;49m\u001b[39mr+\u001b[39;49m\u001b[39m\"\u001b[39;49m) \u001b[39mas\u001b[39;00m f:\n\u001b[0;32m      2\u001b[0m     lines \u001b[39m=\u001b[39m f\u001b[39m.\u001b[39mreadlines()\n\u001b[0;32m      3\u001b[0m lines_copy \u001b[39m=\u001b[39m lines\u001b[39m.\u001b[39mcopy()\n",
      "File \u001b[1;32mc:\\Users\\aherrada\\Documents\\Git\\SEM_Repo\\env\\lib\\site-packages\\IPython\\core\\interactiveshell.py:282\u001b[0m, in \u001b[0;36m_modified_open\u001b[1;34m(file, *args, **kwargs)\u001b[0m\n\u001b[0;32m    275\u001b[0m \u001b[39mif\u001b[39;00m file \u001b[39min\u001b[39;00m {\u001b[39m0\u001b[39m, \u001b[39m1\u001b[39m, \u001b[39m2\u001b[39m}:\n\u001b[0;32m    276\u001b[0m     \u001b[39mraise\u001b[39;00m \u001b[39mValueError\u001b[39;00m(\n\u001b[0;32m    277\u001b[0m         \u001b[39mf\u001b[39m\u001b[39m\"\u001b[39m\u001b[39mIPython won\u001b[39m\u001b[39m'\u001b[39m\u001b[39mt let you open fd=\u001b[39m\u001b[39m{\u001b[39;00mfile\u001b[39m}\u001b[39;00m\u001b[39m by default \u001b[39m\u001b[39m\"\u001b[39m\n\u001b[0;32m    278\u001b[0m         \u001b[39m\"\u001b[39m\u001b[39mas it is likely to crash IPython. If you know what you are doing, \u001b[39m\u001b[39m\"\u001b[39m\n\u001b[0;32m    279\u001b[0m         \u001b[39m\"\u001b[39m\u001b[39myou can use builtins\u001b[39m\u001b[39m'\u001b[39m\u001b[39m open.\u001b[39m\u001b[39m\"\u001b[39m\n\u001b[0;32m    280\u001b[0m     )\n\u001b[1;32m--> 282\u001b[0m \u001b[39mreturn\u001b[39;00m io_open(file, \u001b[39m*\u001b[39margs, \u001b[39m*\u001b[39m\u001b[39m*\u001b[39mkwargs)\n",
      "\u001b[1;31mFileNotFoundError\u001b[0m: [Errno 2] No such file or directory: 'angle_test.atp'"
     ]
    }
   ],
   "source": [
    "with open(\"angle_test.atp\", \"r+\") as f:\n",
    "    lines = f.readlines()\n",
    "lines_copy = lines.copy()\n",
    "for line_idx, line in enumerate(lines):\n",
    "    if \"C MainSource\" == line.strip(\"\\n\"):\n",
    "        print(line_idx, line)\n",
    "        print(lines[line_idx+1][0:8])\n",
    "        print(lines[line_idx+1][8:16])\n",
    "        print(f\"16:24: {lines[line_idx+1][16:24]}\")\n",
    "        print(f\"24:32: {lines[line_idx+1][24:32]}\")\n",
    "        print(f\"32:40: {lines[line_idx+1][32:40]}\")\n",
    "        print(f\"40:48: {lines[line_idx+1][40:48]}\")\n",
    "        print(f\"48:56: {lines[line_idx+1][48:56]}\")\n",
    "        print(f\"56:64: {lines[line_idx+1][56:64]}\")\n",
    "        print(f\"64:72: {lines[line_idx+1][64:72]}\")\n",
    "        print(f\"64:72: {lines[line_idx+1][64:72]}\")\n",
    "        print(f\"72:80: {lines[line_idx+1][72:80]}\")\n",
    "\n",
    "        print(f\"Ángulo de fase utiliza 3 digitos y 5 decimales (9 posiciones):\")\n",
    "        print(f\"En las columnas [31:40]: {lines[line_idx+1][31:40]}\")\n",
    "        source_phase = lines[line_idx+1][31:40]\n",
    "\n",
    "# print(\"C MainSource\\n\" in lines_copy)"
   ]
  },
  {
   "cell_type": "code",
   "execution_count": 6,
   "metadata": {},
   "outputs": [
    {
     "name": "stdout",
     "output_type": "stream",
     "text": [
      "76.84819437340363\n"
     ]
    }
   ],
   "source": [
    "import random\n",
    "\n",
    "phase_int = random.randint(0, 360)\n",
    "phase_dec = random.random()\n",
    "source_phase = phase_int + phase_dec\n",
    "\n",
    "print(source_phase)\n",
    "random_phase = True\n",
    "\n"
   ]
  },
  {
   "cell_type": "code",
   "execution_count": 15,
   "metadata": {},
   "outputs": [
    {
     "name": "stdout",
     "output_type": "stream",
     "text": [
      "14SRCA    8164.96581       60. 123.12345                           -1.      100.\n",
      "\n",
      "14SRCA    8164.96581       60.  76.84819                           -1.      100.\n",
      "\n"
     ]
    }
   ],
   "source": [
    "with open(\"atp_scenarios\\\\angle_test.atp\") as f:\n",
    "    lines = f.readlines()\n",
    "lines_copy = lines.copy()\n",
    "\n",
    "for line_idx, line in enumerate(lines):\n",
    "    if \"C MainSource\" in line:\n",
    "        d_mainSource = line_idx + 1\n",
    "phase_line_a = lines_copy[d_mainSource]\n",
    "phase_line_b = lines_copy[d_mainSource+1]\n",
    "phase_line_c = lines_copy[d_mainSource+2]\n",
    "phi_a = str(round(source_phase, 5))\n",
    "phi_b = str(round(source_phase-120,5))\n",
    "phi_c = str(round(source_phase-240,5))\n",
    "\n",
    "if random_phase:\n",
    "    lines_copy[d_mainSource] = f\"{phase_line_a[:30]}{phi_a:>10}{phase_line_a[40:]}\"\n",
    "    lines_copy[d_mainSource+1] = f\"{phase_line_b[:30]}{phi_b:>10}{phase_line_b[40:]}\"\n",
    "    lines_copy[d_mainSource+2] = f\"{phase_line_c[:30]}{phi_c:>10}{phase_line_c[40:]}\"\n",
    "print(phase_line_a)\n",
    "print(lines_copy[d_mainSource])\n",
    "with open(\"archivoprueba.atp\", \"w\") as f:\n",
    "    f.writelines(lines_copy)"
   ]
  },
  {
   "cell_type": "code",
   "execution_count": 128,
   "metadata": {},
   "outputs": [
    {
     "name": "stdout",
     "output_type": "stream",
     "text": [
      "Check mainSource/microGridSource comment\n",
      "Alvaro\n"
     ]
    }
   ],
   "source": [
    "try:\n",
    "    lines_copy[alvaro]\n",
    "except NameError:\n",
    "    print(\"Check mainSource/microGridSource comment\")\n",
    "\n"
   ]
  },
  {
   "cell_type": "code",
   "execution_count": null,
   "metadata": {},
   "outputs": [],
   "source": [
    "with open(\"IEEE34_Base.atp\", \"r+\") as f:\n",
    "    lines = f.readlines()\n",
    "lines_copy = lines.copy()\n",
    "for line_idx, line in enumerate(lines):\n",
    "    if \"C MainSource\" == line.strip(\"\\n\"):\n",
    "        print(line_idx, line)\n",
    "        print(lines[line_idx+1][0:8])\n",
    "        print(lines[line_idx+1][8:16])\n",
    "        print(f\"16:24: {lines[line_idx+1][16:24]}\")\n",
    "        print(f\"24:32: {lines[line_idx+1][24:32]}\")\n",
    "        print(f\"32:40: {lines[line_idx+1][32:40]}\")\n",
    "        print(f\"40:48: {lines[line_idx+1][40:48]}\")\n",
    "        print(f\"48:56: {lines[line_idx+1][48:56]}\")\n",
    "        print(f\"56:64: {lines[line_idx+1][56:64]}\")\n",
    "        print(f\"64:72: {lines[line_idx+1][64:72]}\")\n",
    "        print(f\"64:72: {lines[line_idx+1][64:72]}\")\n",
    "        print(f\"72:80: {lines[line_idx+1][72:80]}\")\n",
    "\n",
    "        print(f\"Ángulo de fase utiliza 3 digitos y 5 decimales (9 posiciones):\")\n",
    "        print(f\"En las columnas [31:40]: {lines[line_idx+1][31:40]}\")"
   ]
  },
  {
   "cell_type": "code",
   "execution_count": null,
   "metadata": {},
   "outputs": [],
   "source": []
  }
 ],
 "metadata": {
  "kernelspec": {
   "display_name": "env",
   "language": "python",
   "name": "python3"
  },
  "language_info": {
   "codemirror_mode": {
    "name": "ipython",
    "version": 3
   },
   "file_extension": ".py",
   "mimetype": "text/x-python",
   "name": "python",
   "nbconvert_exporter": "python",
   "pygments_lexer": "ipython3",
   "version": "3.9.13"
  },
  "orig_nbformat": 4,
  "vscode": {
   "interpreter": {
    "hash": "aec31a771c32a0cee4173ee26dca4cfd94caa2411f79b653c92f19d0780438eb"
   }
  }
 },
 "nbformat": 4,
 "nbformat_minor": 2
}
