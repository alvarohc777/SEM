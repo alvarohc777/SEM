{
 "cells": [
  {
   "attachments": {},
   "cell_type": "markdown",
   "metadata": {},
   "source": [
    "#### Demostración de info para hallar ángulo de fase de la fuente "
   ]
  },
  {
   "cell_type": "code",
   "execution_count": 44,
   "metadata": {},
   "outputs": [
    {
     "name": "stdout",
     "output_type": "stream",
     "text": [
      "C Load 860 3fy\n",
      " Fase A carga trifásica/bifásica:   X0072A                      6300.9146341    5040.7317073                     0\n",
      " Fase B carga trifásica/bifásica:   X0072B                      6300.9146341    5040.7317073                     0\n",
      " Fase C carga trifásica/bifásica:   X0072C                      6300.9146341    5040.7317073                     0\n",
      "C Load 840 3fy\n",
      " Fase A carga trifásica/bifásica:   N840A                       14307.923077    11128.384615                     0\n",
      " Fase B carga trifásica/bifásica:   N840B                       14307.923077    11128.384615                     0\n",
      " Fase C carga trifásica/bifásica:   N840C                       14307.923077    11128.384615                     0\n",
      "C Load 844 3f\n",
      " Fase A carga trifásica/bifásica:   N844A                       953.86153846    741.89230769                     0\n",
      " Fase B carga trifásica/bifásica:   N844B                       953.86153846    741.89230769                     0\n",
      " Fase C carga trifásica/bifásica:   N844C                       953.86153846    741.89230769                     0\n",
      "C Load 830 3f\n",
      " Fase A carga trifásica/bifásica:   N830A N830B                      49600.8         24800.4                     0\n",
      " Fase B carga trifásica/bifásica:   N830B N830C                      49600.8         24800.4                     0\n",
      " Fase C carga trifásica/bifásica:   N830C N830A                 21379.655172     8551.862069                     0\n",
      "C Load 848 3f\n",
      " Fase A carga trifásica/bifásica:   N848A N848B                 18902.743902    15122.195122                     0\n",
      " Fase B carga trifásica/bifásica:   N848B N848C                 18902.743902    15122.195122                     0\n",
      " Fase C carga trifásica/bifásica:   N848C N848A                 18902.743902    15122.195122                     0\n",
      "C Load 802 3f\n",
      " Fase A carga trifásica/bifásica:   N802A                              1.E30           1.E30                     0\n",
      " Fase B carga trifásica/bifásica:   N802B                            11022.4          5511.2                     0\n",
      " Fase C carga trifásica/bifásica:   N802C                       12586.479903    7048.4287454                     0\n",
      "C Load 806 3f\n",
      " Fase A carga trifásica/bifásica:   N806A                              1.E30           1.E30                     0\n",
      " Fase B carga trifásica/bifásica:   N806B                            11022.4          5511.2                     0\n",
      " Fase C carga trifásica/bifásica:   N806C                       12586.479903    7048.4287454                     0\n",
      "C Load 808 B\n",
      " Fase A carga monofásica:   X0001B                            20667.         10333.5                     0\n",
      "C Load 810 B\n",
      " Fase A carga monofásica:   XX0017                            20667.         10333.5                     0\n",
      "C Load 818 A\n",
      " Fase A carga monofásica:   XX0013                      9725.6470588    4862.8235294                     0\n",
      "C Load 820 A\n",
      " Fase A carga monofásica:   XX0014                      9725.6470588    4862.8235294                     0\n",
      "C Load 820 Aa\n",
      " Fase A carga monofásica:   XX0014                      2413.0118919    1251.1913514                     0\n",
      "C Load 822 A\n",
      " Fase A carga monofásica:   XX0018                      2413.0118919    1251.1913514                     0\n",
      "C Load 840 3fd\n",
      " Fase A carga trifásica/bifásica:   N840A N840B                       55112.          27556.                     0\n",
      " Fase B carga trifásica/bifásica:   N840B N840C                 45091.636364    22545.818182                     0\n",
      " Fase C carga trifásica/bifásica:   N840C N840A                        1.E30           1.E30                     0\n",
      "C Load 824 Ba\n",
      " Fase A carga monofásica:   X0003B                            8266.8          4133.4                     0\n",
      "C Load 826 B\n",
      " Fase A carga monofásica:   XX0019                            8266.8          4133.4                     0\n",
      "C Load 824 Ab\n",
      " Fase A carga monofásica:   X0003A                            82668.          41334.                     0\n",
      "C Load 828 C\n",
      " Fase A carga monofásica:   N828C                             82668.          41334.                     0\n",
      "C Load 854 B\n",
      " Fase A carga monofásica:   X0004B                            82668.          41334.                     0\n",
      "C Load 856 B\n",
      " Fase A carga monofásica:   XX0020                            82668.          41334.                     0\n",
      "C Load 832 3f\n",
      " Fase A carga trifásica/bifásica:   N832A N832B                 149657.58621    64138.965517                     0\n",
      " Fase B carga trifásica/bifásica:   N832B N832C                      496008.         248004.                     0\n",
      " Fase C carga trifásica/bifásica:   N832C N832A                      165336.          82668.                     0\n",
      "C Load 858 3f\n",
      " Fase A carga trifásica/bifásica:   N358A N358B                 149657.58621    64138.965517                     0\n",
      " Fase B carga trifásica/bifásica:   N358B N358C                      496008.         248004.                     0\n",
      " Fase C carga trifásica/bifásica:   N358C N358A                      165336.          82668.                     0\n",
      "C Load 864 A\n",
      " Fase A carga monofásica:   XX0009                           165336.          82668.                     0\n",
      "C Load 858 A\n",
      " Fase A carga monofásica:   X0005A                           165336.          82668.                     0\n",
      "C Load 834 3fa\n",
      " Fase A carga trifásica/bifásica:   N334A N334B                       62001.         31000.5                     0\n",
      " Fase B carga trifásica/bifásica:   N334B N334C                      49600.8         24800.4                     0\n",
      " Fase C carga trifásica/bifásica:   N334C N334A                 9018.3272727    4509.1636364                     0\n",
      "C Load 860 3fd\n",
      " Fase A carga trifásica/bifásica:   N860A N860B                       62001.         31000.5                     0\n",
      " Fase B carga trifásica/bifásica:   N860B N860C                      49600.8         24800.4                     0\n",
      " Fase C carga trifásica/bifásica:   N860C N860A                 9018.3272727    4509.1636364                     0\n",
      "C Load 858 3fa\n",
      " Fase A carga trifásica/bifásica:   X0005AX0005B                     248004.         124002.                     0\n",
      " Fase B carga trifásica/bifásica:   X0005BX0005C                64360.899654    34325.813149                     0\n",
      " Fase C carga trifásica/bifásica:   X0005CX0005A                73946.146789    39817.155963                     0\n",
      "C Load 834 3f\n",
      " Fase A carga trifásica/bifásica:   X0015AX0015B                     248004.         124002.                     0\n",
      " Fase B carga trifásica/bifásica:   X0015BX0015C                64360.899654    34325.813149                     0\n",
      " Fase C carga trifásica/bifásica:   X0015CX0015A                73946.146789    39817.155963                     0\n",
      "C Load 842 A\n",
      " Fase A carga monofásica:   N842A                        35094.90566    19497.169811                     0\n",
      "C Load 844 A\n",
      " Fase A carga monofásica:   N844A                        35094.90566    19497.169811                     0\n",
      "C Load 860 3fa\n",
      " Fase A carga trifásica/bifásica:   X0072AX0072B                     33067.2         16533.6                     0\n",
      " Fase B carga trifásica/bifásica:   X0072BX0072C                91177.941176    54706.764706                     0\n",
      " Fase C carga trifásica/bifásica:   X0072CX0072A                23167.633452    12135.427046                     0\n",
      "C Load 862 B\n",
      " Fase A carga monofásica:   N862B                       11809.714286    5904.8571429                     0\n",
      "C Load 838 B\n",
      " Fase A carga monofásica:   XX0021                      11809.714286    5904.8571429                     0\n",
      "C Load 844 3fa\n",
      " Fase A carga trifásica/bifásica:   N844A                              1.E30           1.E30                     0\n",
      " Fase B carga trifásica/bifásica:   N844B                       13437.581274    6450.0390117                     0\n",
      " Fase C carga trifásica/bifásica:   N844C                       15867.178503    8726.9481766                     0\n",
      "C Load 846 3fa\n",
      " Fase A carga trifásica/bifásica:   N846A                              1.E30           1.E30                     0\n",
      " Fase B carga trifásica/bifásica:   N846B                       13437.581274    6450.0390117                     0\n",
      " Fase C carga trifásica/bifásica:   N846C                       15867.178503    8726.9481766                     0\n",
      "C Load 846 B\n",
      " Fase A carga monofásica:   N846B                       14625.876923    6994.9846154                     0\n",
      "C Load 848 B\n",
      " Fase A carga monofásica:   N848B                       14625.876923    6994.9846154                     0\n",
      "C Load 836 3f\n",
      " Fase A carga trifásica/bifásica:   X0016AX0016B                     33067.2         16533.6                     0\n",
      " Fase B carga trifásica/bifásica:   X0016BX0016C                91177.941176    54706.764706                     0\n",
      " Fase C carga trifásica/bifásica:   X0016CX0016A                23167.633452    12135.427046                     0\n",
      "C Load 816 3f\n",
      " Fase A carga trifásica/bifásica:   X0002AX0002B                       1.E30           1.E30                     0\n",
      " Fase B carga trifásica/bifásica:   X0002BX0002C                213796.55172     85518.62069                     0\n",
      " Fase C carga trifásica/bifásica:   X0002CX0002A                       1.E30           1.E30                     0\n",
      "C Load 824 3f\n",
      " Fase A carga trifásica/bifásica:   N124A N124B                        1.E30           1.E30                     0\n",
      " Fase B carga trifásica/bifásica:   N124B N124C                 213796.55172     85518.62069                     0\n",
      " Fase C carga trifásica/bifásica:   N124C N124A                        1.E30           1.E30                     0\n",
      "C Load 832 3f\n",
      " Fase A carga trifásica/bifásica:   N832A                         38480.5719       17400.524                     0\n",
      " Fase B carga trifásica/bifásica:   N832B                           38743.03       17713.412                     0\n",
      " Fase C carga trifásica/bifásica:   N832C                         39927.5821       19130.092                     0\n",
      "C Load 828 Aa\n",
      " Fase A carga monofásica:   N828A                       49885.862069    21379.655172                     0\n",
      "C Load 830 A\n",
      " Fase A carga monofásica:   N830A                       49885.862069    21379.655172                     0\n"
     ]
    }
   ],
   "source": [
    "with open(\"IEEE34_form1_loads.atp\", \"r+\") as f:\n",
    "    lines = f.readlines()\n",
    "lines_copy = lines.copy()\n",
    "for idx, line in enumerate(lines_copy):\n",
    "    if 'C Load' in line:\n",
    "        if '3f' in line:\n",
    "            print(line, end='')\n",
    "            print(f\" Fase A carga trifásica/bifásica: {lines_copy[idx + 1]}\", end='')\n",
    "            print(f\" Fase B carga trifásica/bifásica: {lines_copy[idx + 2]}\", end='')\n",
    "            print(f\" Fase C carga trifásica/bifásica: {lines_copy[idx + 3]}\", end='')\n",
    "        else:\n",
    "            print(line, end='')\n",
    "            print(f\" Fase A carga monofásica: {lines_copy[idx + 1]}\", end='')\n",
    "\n"
   ]
  },
  {
   "cell_type": "code",
   "execution_count": 193,
   "metadata": {},
   "outputs": [],
   "source": [
    "import numpy as np\n",
    "import matplotlib.pyplot as plt\n",
    "load_low = 80\n",
    "load_high = 120\n",
    "max_load_step = 5\n",
    "events_amount = 1000\n",
    "\n",
    "initial_load_values = np.around(np.random.uniform(load_low, load_high, events_amount), 2)\n",
    "counts, bins = np.histogram(initial_load_values)"
   ]
  },
  {
   "cell_type": "code",
   "execution_count": 194,
   "metadata": {},
   "outputs": [
    {
     "data": {
      "image/png": "[encoded data removed]",
      "text/plain": [
       "<Figure size 640x480 with 1 Axes>"
      ]
     },
     "metadata": {},
     "output_type": "display_data"
    }
   ],
   "source": [
    "\n",
    "plt.hist(bins[:-1], bins, weights=counts)\n",
    "plt.title('Distribución valores iniciales')\n",
    "\n",
    "plt.show()"
   ]
  },
  {
   "cell_type": "code",
   "execution_count": 195,
   "metadata": {},
   "outputs": [
    {
     "name": "stdout",
     "output_type": "stream",
     "text": [
      "82.93\n",
      "82.93\n",
      "82.93\n",
      "0.5\n"
     ]
    }
   ],
   "source": [
    "load_values = initial_load_values.copy()\n",
    "print(load_values[600])\n",
    "print(initial_load_values[600])\n",
    "initial_load_values[600] = 0.5\n",
    "print(load_values[600])\n",
    "print(initial_load_values[600])\n",
    "\n",
    "\n",
    "higher_values_idx = np.where(load_values > load_high - max_load_step)\n",
    "higher_values = initial_load_values[higher_values_idx]\n",
    "load_values = np.delete(load_values, higher_values_idx)\n"
   ]
  },
  {
   "cell_type": "code",
   "execution_count": 196,
   "metadata": {},
   "outputs": [],
   "source": [
    "lower_values_idx = np.where(load_values < load_low + max_load_step)\n",
    "lower_values = initial_load_values[lower_values_idx]\n",
    "load_values = np.delete(load_values, lower_values_idx)\n"
   ]
  },
  {
   "cell_type": "code",
   "execution_count": 197,
   "metadata": {},
   "outputs": [],
   "source": [
    "def target_load(initial_load: np.ndarray, load_high: float, load_low: float, max_load_step: float)-> float:\n",
    "    \"\"\"Takes initual load perctentage and returns target load percentage\n",
    "\n",
    "    Parameters\n",
    "    ----------\n",
    "    initial_load : np.ndarray\n",
    "        Initial load percentage\n",
    "    load_high : float\n",
    "        Upper load percentage limit.\n",
    "    load_low : float\n",
    "        Lower load percentage limit.\n",
    "    max_load_step : float\n",
    "        Max percentage difference between initial_load and target load\n",
    "\n",
    "    Returns\n",
    "    -------\n",
    "    float\n",
    "        target load percentage\n",
    "    \"\"\"\n",
    "    max_val = initial_load + max_load_step\n",
    "    min_val = initial_load - max_load_step\n",
    "    if initial_load > load_high - max_load_step:\n",
    "        return np.random.uniform(min_val, load_high)\n",
    "    elif initial_load < load_low + max_load_step:\n",
    "        return np.random.uniform(load_low, max_val)\n",
    "    else:\n",
    "        return np.random.uniform(min_val, max_val)\n",
    "\n",
    "target_load_vect = np.vectorize(target_load)"
   ]
  },
  {
   "cell_type": "code",
   "execution_count": 198,
   "metadata": {},
   "outputs": [],
   "source": [
    "final_values = target_load_vect(initial_load_values, load_high, load_low, max_load_step)\n",
    "final_values = np.around(final_values, 2)"
   ]
  },
  {
   "cell_type": "code",
   "execution_count": 205,
   "metadata": {},
   "outputs": [
    {
     "name": "stdout",
     "output_type": "stream",
     "text": [
      "(110,)\n"
     ]
    }
   ],
   "source": [
    "print(np.where(final_values > load_high - max_load_step)[0].shape)"
   ]
  },
  {
   "cell_type": "code",
   "execution_count": 204,
   "metadata": {},
   "outputs": [
    {
     "name": "stdout",
     "output_type": "stream",
     "text": [
      "(118,)\n"
     ]
    }
   ],
   "source": [
    "print(np.where(initial_load_values > load_high - max_load_step)[0].shape)"
   ]
  },
  {
   "cell_type": "code",
   "execution_count": 207,
   "metadata": {},
   "outputs": [
    {
     "name": "stdout",
     "output_type": "stream",
     "text": [
      "(1000,)\n"
     ]
    }
   ],
   "source": []
  },
  {
   "cell_type": "code",
   "execution_count": 208,
   "metadata": {},
   "outputs": [
    {
     "data": {
      "image/png": "[encoded data removed]",
      "text/plain": [
       "<Figure size 640x480 with 1 Axes>"
      ]
     },
     "metadata": {},
     "output_type": "display_data"
    }
   ],
   "source": [
    "\n",
    "counts, bins = np.histogram(final_values)\n",
    "plt.hist(bins[:-1], bins, weights=counts)\n",
    "plt.title('Distribución valores finales')\n",
    "\n",
    "plt.show()"
   ]
  },
  {
   "cell_type": "code",
   "execution_count": null,
   "metadata": {},
   "outputs": [],
   "source": []
  }
 ],
 "metadata": {
  "kernelspec": {
   "display_name": "env",
   "language": "python",
   "name": "python3"
  },
  "language_info": {
   "codemirror_mode": {
    "name": "ipython",
    "version": 3
   },
   "file_extension": ".py",
   "mimetype": "text/x-python",
   "name": "python",
   "nbconvert_exporter": "python",
   "pygments_lexer": "ipython3",
   "version": "3.9.0"
  },
  "orig_nbformat": 4,
  "vscode": {
   "interpreter": {
    "hash": "aec31a771c32a0cee4173ee26dca4cfd94caa2411f79b653c92f19d0780438eb"
   }
  }
 },
 "nbformat": 4,
 "nbformat_minor": 2
}
